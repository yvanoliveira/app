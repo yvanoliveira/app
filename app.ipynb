{
 "cells": [
  {
   "cell_type": "code",
   "execution_count": 1,
   "metadata": {},
   "outputs": [],
   "source": [
    "import warnings\n",
    "warnings.filterwarnings(\"ignore\")"
   ]
  },
  {
   "cell_type": "code",
   "execution_count": 2,
   "metadata": {},
   "outputs": [
    {
     "data": {
      "text/html": [
       "<h2><left>SOFTWARE PARA AUXÍLIO AO PROJETO DE MECANISMOS DE 4 BARRAS</left></h2>"
      ],
      "text/plain": [
       "<IPython.core.display.HTML object>"
      ]
     },
     "metadata": {},
     "output_type": "display_data"
    }
   ],
   "source": [
    "from IPython.core.display import display, HTML\n",
    "display(HTML('<h2><left>SOFTWARE PARA AUXÍLIO AO PROJETO DE MECANISMOS DE 4 BARRAS</left></h2>'))"
   ]
  },
  {
   "cell_type": "code",
   "execution_count": 3,
   "metadata": {},
   "outputs": [],
   "source": [
    "# 3  DINÂMICA DO MECANISMO DE 4 BARRAS"
   ]
  },
  {
   "cell_type": "code",
   "execution_count": 4,
   "metadata": {},
   "outputs": [],
   "source": [
    "## 3.2 CINEMÁTICA"
   ]
  },
  {
   "cell_type": "code",
   "execution_count": 5,
   "metadata": {},
   "outputs": [],
   "source": [
    "### 3.2.1 \tSolução Analítica para Análise de Posição"
   ]
  },
  {
   "cell_type": "code",
   "execution_count": 6,
   "metadata": {},
   "outputs": [
    {
     "data": {
      "text/html": [
       "<h3><left>Análise de posição</left></h3>"
      ],
      "text/plain": [
       "<IPython.core.display.HTML object>"
      ]
     },
     "metadata": {},
     "output_type": "display_data"
    }
   ],
   "source": [
    "display(HTML('<h3><left>Análise de posição</left></h3>'))"
   ]
  },
  {
   "cell_type": "code",
   "execution_count": 7,
   "metadata": {},
   "outputs": [],
   "source": [
    "#Trabalho elaborado através da Análise Algébrica da Posição de Mecanismos."
   ]
  },
  {
   "cell_type": "code",
   "execution_count": 8,
   "metadata": {},
   "outputs": [],
   "source": [
    "#A vantagem da análise algébrica se dá pela obtenção das coordenadas dos pontos das juntas, dessa forma, sendo possível visualizar \n",
    "#um gráfico da posição do mecanismo."
   ]
  },
  {
   "cell_type": "code",
   "execution_count": 9,
   "metadata": {},
   "outputs": [],
   "source": [
    "#from PIL import Image\n",
    "\n",
    "#img = Image.open('pos.jpg')\n",
    "#width = 600\n",
    "#height = 400\n",
    "#img_resized = img.resize((width, height))\n",
    "#img_resized\n",
    "#img_resized.save('img_redimensionada.png')"
   ]
  },
  {
   "cell_type": "code",
   "execution_count": 10,
   "metadata": {},
   "outputs": [],
   "source": [
    "#Começa-se importando as bibliotecas que serão utilizadas no desenvolvimento do programa."
   ]
  },
  {
   "cell_type": "code",
   "execution_count": 11,
   "metadata": {},
   "outputs": [],
   "source": [
    "import sympy as sy\n",
    "from sympy import *"
   ]
  },
  {
   "cell_type": "code",
   "execution_count": 12,
   "metadata": {},
   "outputs": [],
   "source": [
    "#import warnings\n",
    "from sympy.utilities.exceptions import SymPyDeprecationWarning\n",
    "\n",
    "warnings.filterwarnings(\n",
    "    # replace \"ignore\" with \"error\" to make the warning raise an exception.\n",
    "    # This useful if you want to test you aren't using deprecated code.\n",
    "    \"ignore\",\n",
    "\n",
    "    # message may be omitted to filter all SymPyDeprecationWarnings\n",
    "    message=r\"(?s).*<regex matching the warning message>\",\n",
    "\n",
    "    category=SymPyDeprecationWarning,\n",
    "    module=r\"<regex matching your module>\"\n",
    ")"
   ]
  },
  {
   "cell_type": "code",
   "execution_count": 13,
   "metadata": {},
   "outputs": [],
   "source": [
    "#Declara-se as variáveis simbólicas:"
   ]
  },
  {
   "cell_type": "code",
   "execution_count": 14,
   "metadata": {
    "slideshow": {
     "slide_type": "fragment"
    }
   },
   "outputs": [],
   "source": [
    "a,b,c,d = symbols('a b c d')\n",
    "theta1,theta2 = symbols('theta1 theta2')"
   ]
  },
  {
   "cell_type": "code",
   "execution_count": 15,
   "metadata": {},
   "outputs": [],
   "source": [
    "dic = {}\n",
    "dic[theta1] = 0\n",
    "#dic"
   ]
  },
  {
   "cell_type": "code",
   "execution_count": 16,
   "metadata": {},
   "outputs": [
    {
     "data": {
      "text/html": [
       "<h4><left>Inserir os seguintes dados de entrada do mecanismo:</left></h4>"
      ],
      "text/plain": [
       "<IPython.core.display.HTML object>"
      ]
     },
     "metadata": {},
     "output_type": "display_data"
    }
   ],
   "source": [
    "display(HTML('<h4><left>Inserir os seguintes dados de entrada do mecanismo:</left></h4>'))"
   ]
  },
  {
   "cell_type": "code",
   "execution_count": 17,
   "metadata": {
    "scrolled": false
   },
   "outputs": [
    {
     "name": "stdout",
     "output_type": "stream",
     "text": [
      "a [mm] = 127\n"
     ]
    }
   ],
   "source": [
    "while True:\n",
    "    try: \n",
    "        dic[a] = float(input('a [mm] = '))\n",
    "        break\n",
    "    except ValueError:\n",
    "        print(\"Oops!  Esse não foi um número válido. Tente novamente...\")"
   ]
  },
  {
   "cell_type": "code",
   "execution_count": 18,
   "metadata": {},
   "outputs": [
    {
     "name": "stdout",
     "output_type": "stream",
     "text": [
      "b [mm] = 381\n"
     ]
    }
   ],
   "source": [
    "while True:\n",
    "    try: \n",
    "        dic[b] = float(input('b [mm] = '))\n",
    "        break\n",
    "    except ValueError:\n",
    "        print(\"Oops!  Esse não foi um número válido. Tente novamente...\")"
   ]
  },
  {
   "cell_type": "code",
   "execution_count": 19,
   "metadata": {},
   "outputs": [
    {
     "name": "stdout",
     "output_type": "stream",
     "text": [
      "c [mm] = 254\n"
     ]
    }
   ],
   "source": [
    "while True:\n",
    "    try: \n",
    "        dic[c] = float(input('c [mm] = '))\n",
    "        break\n",
    "    except ValueError:\n",
    "        print(\"Oops!  Esse não foi um número válido. Tente novamente...\")"
   ]
  },
  {
   "cell_type": "code",
   "execution_count": 20,
   "metadata": {},
   "outputs": [
    {
     "name": "stdout",
     "output_type": "stream",
     "text": [
      "d [mm] = 482.6\n"
     ]
    }
   ],
   "source": [
    "while True:\n",
    "    try: \n",
    "        dic[d] = float(input('d [mm] = '))\n",
    "        break\n",
    "    except ValueError:\n",
    "        print(\"Oops!  Esse não foi um número válido. Tente novamente...\")"
   ]
  },
  {
   "cell_type": "code",
   "execution_count": 21,
   "metadata": {},
   "outputs": [
    {
     "name": "stdout",
     "output_type": "stream",
     "text": [
      "θ₂ [°] = 60\n"
     ]
    }
   ],
   "source": [
    "while True:\n",
    "    try: \n",
    "        dic[theta2] = sy.rad(float(input('\\u03B8\\u2082 [°] = ')))\n",
    "        break\n",
    "    except ValueError:\n",
    "        print(\"Oops!  Esse não foi um número válido. Tente novamente...\")"
   ]
  },
  {
   "cell_type": "code",
   "execution_count": 22,
   "metadata": {},
   "outputs": [],
   "source": [
    "#dic"
   ]
  },
  {
   "cell_type": "code",
   "execution_count": 23,
   "metadata": {},
   "outputs": [],
   "source": [
    "theta2t = dic[theta2] #Guarda valor de theta2 para posterior substituição em theta2(t)"
   ]
  },
  {
   "cell_type": "code",
   "execution_count": 24,
   "metadata": {},
   "outputs": [],
   "source": [
    "#As projeções dos elos nos eixos x e y são:"
   ]
  },
  {
   "cell_type": "code",
   "execution_count": 25,
   "metadata": {
    "slideshow": {
     "slide_type": "fragment"
    }
   },
   "outputs": [],
   "source": [
    "Ax = a*cos(theta2)\n",
    "#Ax = symbols('A_x')\n",
    "#Eq(Ax,a*sy.cos(theta2))\n",
    "#Ax"
   ]
  },
  {
   "cell_type": "code",
   "execution_count": 26,
   "metadata": {
    "slideshow": {
     "slide_type": "fragment"
    }
   },
   "outputs": [],
   "source": [
    "Ay = a*sin(theta2)\n",
    "#Ay = symbols('A_y')\n",
    "#Eq(Ay,a*sy.sin(theta2))\n",
    "#Ay"
   ]
  },
  {
   "cell_type": "code",
   "execution_count": 27,
   "metadata": {
    "slideshow": {
     "slide_type": "fragment"
    }
   },
   "outputs": [],
   "source": [
    "#Escrevendo as equações dos círculos deslocados, com centro A e O_4, como demonstrado na análise gráfica, tem-se:\n",
    "#b2 e c2 são os raios dos círculos."
   ]
  },
  {
   "cell_type": "code",
   "execution_count": 28,
   "metadata": {
    "slideshow": {
     "slide_type": "fragment"
    }
   },
   "outputs": [],
   "source": [
    "Bx,By = symbols('B_x B_y')"
   ]
  },
  {
   "cell_type": "code",
   "execution_count": 29,
   "metadata": {
    "slideshow": {
     "slide_type": "fragment"
    }
   },
   "outputs": [],
   "source": [
    "b2 = (Bx-Ax)**2 + (By-Ay)**2\n",
    "Eq1 = Eq(b**2,b2)\n",
    "Eq1 = b2 - b**2\n",
    "#Eq1 = equação do primeiro círculo deslocado\n",
    "#Eq1.expand()\n",
    "#Eq1"
   ]
  },
  {
   "cell_type": "code",
   "execution_count": 30,
   "metadata": {
    "slideshow": {
     "slide_type": "fragment"
    }
   },
   "outputs": [],
   "source": [
    "c2 = (Bx - d)**2 + By**2\n",
    "Eq2 = Eq(c**2,c2)\n",
    "Eq2 = c2 - c**2\n",
    "#Eq2 = equação do segundo círculo deslocado\n",
    "#Eq2"
   ]
  },
  {
   "cell_type": "code",
   "execution_count": 31,
   "metadata": {
    "slideshow": {
     "slide_type": "fragment"
    }
   },
   "outputs": [],
   "source": [
    "Eq3 = Eq1 - Eq2\n",
    "#sy.expand(Eq3)\n",
    "#Eq3"
   ]
  },
  {
   "cell_type": "code",
   "execution_count": 32,
   "metadata": {
    "slideshow": {
     "slide_type": "fragment"
    }
   },
   "outputs": [],
   "source": [
    "sol_Bx = solve(Eq3,Bx)[0]\n",
    "#Eq(Bx,sol_Bx)"
   ]
  },
  {
   "cell_type": "code",
   "execution_count": 33,
   "metadata": {
    "slideshow": {
     "slide_type": "fragment"
    }
   },
   "outputs": [],
   "source": [
    "Eq4 = Eq2.subs(Bx,sol_Bx)\n",
    "#Eq(Eq4,0)"
   ]
  },
  {
   "cell_type": "code",
   "execution_count": 34,
   "metadata": {
    "scrolled": true,
    "slideshow": {
     "slide_type": "fragment"
    }
   },
   "outputs": [],
   "source": [
    "sol_By = solve(Eq4,By)\n",
    "#sol_By"
   ]
  },
  {
   "cell_type": "code",
   "execution_count": 35,
   "metadata": {},
   "outputs": [],
   "source": [
    "#Para B_y, por se tratar de uma equação de segundo grau, há duas soluções possíveis."
   ]
  },
  {
   "cell_type": "code",
   "execution_count": 36,
   "metadata": {
    "slideshow": {
     "slide_type": "fragment"
    }
   },
   "outputs": [],
   "source": [
    "By1 = sol_By[0]\n",
    "#By1 = symbols('B_y1')\n",
    "#Eq(By1,sol_By[0])\n",
    "#By1"
   ]
  },
  {
   "cell_type": "code",
   "execution_count": 37,
   "metadata": {
    "scrolled": false,
    "slideshow": {
     "slide_type": "fragment"
    }
   },
   "outputs": [],
   "source": [
    "By2 = sol_By[1]\n",
    "#By2 = symbols('B_y2')\n",
    "#Eq(By2,sol_By[1])\n",
    "#By2"
   ]
  },
  {
   "cell_type": "code",
   "execution_count": 38,
   "metadata": {
    "slideshow": {
     "slide_type": "fragment"
    }
   },
   "outputs": [],
   "source": [
    "Bx1 = sol_Bx.subs(By,By1)\n",
    "#Bx1 = symbols('B_x1')\n",
    "#Eq(Bx1,sol_Bx.subs(By,By1))\n",
    "#Bx1"
   ]
  },
  {
   "cell_type": "code",
   "execution_count": 39,
   "metadata": {
    "slideshow": {
     "slide_type": "fragment"
    }
   },
   "outputs": [],
   "source": [
    "Bx2 = sol_Bx.subs(By,By2)\n",
    "#Bx2 = symbols('B_x2')\n",
    "#Eq(Bx2,sol_Bx.subs(By,By2))\n",
    "#Bx2"
   ]
  },
  {
   "cell_type": "code",
   "execution_count": 40,
   "metadata": {},
   "outputs": [],
   "source": [
    "#Coornedadas do eixo x nos pontos $O_2$, $A$, $B$ e $O_4$, respectivamente:"
   ]
  },
  {
   "cell_type": "code",
   "execution_count": 41,
   "metadata": {
    "slideshow": {
     "slide_type": "fragment"
    }
   },
   "outputs": [],
   "source": [
    "#print('Coornedadas do eixo x nos pontos O2, A, B e O4:')\n",
    "X = [0,Ax.subs(dic).evalf(),Bx1.subs(dic).evalf(),d.subs(dic).evalf()]\n",
    "#X"
   ]
  },
  {
   "cell_type": "code",
   "execution_count": 42,
   "metadata": {},
   "outputs": [],
   "source": [
    "#Coornedadas do eixo y nos pontos $O_2$, $A$, $B$ e $O_4$, respectivamente:"
   ]
  },
  {
   "cell_type": "code",
   "execution_count": 43,
   "metadata": {
    "slideshow": {
     "slide_type": "fragment"
    }
   },
   "outputs": [],
   "source": [
    "#print('Coornedadas do eixo y nos pontos O2, A, B e O4:')\n",
    "Y = [0,Ay.subs(dic).evalf(),By1.subs(dic).evalf(),0]\n",
    "#Y"
   ]
  },
  {
   "cell_type": "code",
   "execution_count": 44,
   "metadata": {},
   "outputs": [
    {
     "data": {
      "text/html": [
       "<h4><left>Resultados da análise:</left></h4>"
      ],
      "text/plain": [
       "<IPython.core.display.HTML object>"
      ]
     },
     "metadata": {},
     "output_type": "display_data"
    }
   ],
   "source": [
    "display(HTML('<h4><left>Resultados da análise:</left></h4>'))"
   ]
  },
  {
   "cell_type": "code",
   "execution_count": 45,
   "metadata": {
    "slideshow": {
     "slide_type": "fragment"
    }
   },
   "outputs": [
    {
     "data": {
      "image/png": "[encoded data removed]",
      "text/plain": [
       "<Figure size 640x480 with 1 Axes>"
      ]
     },
     "metadata": {},
     "output_type": "display_data"
    },
    {
     "name": "stdout",
     "output_type": "stream",
     "text": [
      "Mecanismo Grashof: Classe I\n"
     ]
    }
   ],
   "source": [
    "elos = [dic[a],dic[b],dic[c],dic[d]]\n",
    "elo_maior = max(elos)\n",
    "elo_menor = min(elos)\n",
    "soma_elos = sum(elos)\n",
    "\n",
    "S = elo_menor\n",
    "L = elo_maior\n",
    "soma_PQ = soma_elos - S - L\n",
    "\n",
    "import matplotlib.pyplot as plt\n",
    "def grafico():\n",
    "    plt.figure(dpi=100)\n",
    "    plt.plot(X,Y,'-o')\n",
    "    plt.title('Plotagem do mecanismo de 4 barras')\n",
    "    plt.xlabel(r'$[mm]$')\n",
    "    plt.ylabel(r'$[mm]$')\n",
    "#plt.xlim([-10,30])\n",
    "#plt.ylim([-10,20])\n",
    "    plt.grid(False)\n",
    "    plt.gca().set_aspect('auto', adjustable='box', anchor='SW')\n",
    "    return plt.show()\n",
    "#if (elo_maior+elo_menor)<(soma_elos-(elo_maior+elo_menor)):\n",
    "    #print('Mecanismo Grashof')\n",
    "if (S+L)<soma_PQ:\n",
    "    grafico()\n",
    "    print ('Mecanismo Grashof: Classe I')\n",
    "elif (S+L)>soma_PQ:\n",
    "    print ('Mecanismo Não-Grashof: Classe II')\n",
    "    print ('Não há solução para essa configuração.')\n",
    "    #import sys\n",
    "    #try:\n",
    "        #sys.exit()\n",
    "    #except SystemExit:\n",
    "        #print('Programa finalizado.')\n",
    "    from sys import exit\n",
    "    print('Programa finalizado.')\n",
    "    exit()\n",
    "else:\n",
    "    grafico()\n",
    "    print('Caso especial de Grashof: Classe III')\n",
    "#else:\n",
    "#    print('Mecanismo Não-Grashof')"
   ]
  },
  {
   "cell_type": "code",
   "execution_count": 46,
   "metadata": {},
   "outputs": [],
   "source": [
    "#Declarando as variáveis simbólicas:"
   ]
  },
  {
   "cell_type": "code",
   "execution_count": 47,
   "metadata": {},
   "outputs": [],
   "source": [
    "theta1,theta3,theta4 = symbols('theta1 theta3 theta4')"
   ]
  },
  {
   "cell_type": "code",
   "execution_count": 48,
   "metadata": {},
   "outputs": [],
   "source": [
    "dic[theta1] = 0"
   ]
  },
  {
   "cell_type": "code",
   "execution_count": 49,
   "metadata": {},
   "outputs": [],
   "source": [
    "dic_pi = {pi:3.14159265359} #dicionário que contém valor de pi para posterior substituição em equação"
   ]
  },
  {
   "cell_type": "code",
   "execution_count": 50,
   "metadata": {},
   "outputs": [],
   "source": [
    "#Sabendo que:\n",
    "\n",
    "#𝜃3=𝑡𝑎𝑛−1(𝐵𝑦−𝐴𝑦/𝐵𝑥−𝐴𝑥)\n",
    "\n",
    "#𝜃4=𝑡𝑎𝑛−1(𝐵𝑦/𝐵𝑥−𝑑)"
   ]
  },
  {
   "cell_type": "code",
   "execution_count": 51,
   "metadata": {},
   "outputs": [],
   "source": [
    "deg = symbols('°')"
   ]
  },
  {
   "cell_type": "code",
   "execution_count": 52,
   "metadata": {},
   "outputs": [
    {
     "data": {
      "text/latex": [
       "$\\displaystyle \\theta_{3} = 20.92 °$"
      ],
      "text/plain": [
       "Eq(theta3, 20.92*°)"
      ]
     },
     "execution_count": 52,
     "metadata": {},
     "output_type": "execute_result"
    }
   ],
   "source": [
    "theta3_rad = sy.atan((By1-Ay)/(Bx1-Ax)).subs(dic).evalf() #cálculo de theta3 em radianos\n",
    "theta3_deg = sy.deg(theta3_rad).subs(dic_pi).evalf() #conversão de theta3 de radianos para graus, com substituição do valor de pi\n",
    "Eq(theta3,round(theta3_deg,2)*deg)"
   ]
  },
  {
   "cell_type": "code",
   "execution_count": 53,
   "metadata": {},
   "outputs": [
    {
     "data": {
      "text/latex": [
       "$\\displaystyle \\theta_{4} = 104.41 °$"
      ],
      "text/plain": [
       "Eq(theta4, 104.41*°)"
      ]
     },
     "execution_count": 53,
     "metadata": {},
     "output_type": "execute_result"
    }
   ],
   "source": [
    "theta4_rad = sy.pi+sy.atan(By1/(Bx1-d)).subs(dic).evalf() #cálculo de theta3 em radianos\n",
    "theta4_deg = sy.deg(theta4_rad).subs(dic_pi).evalf() #conversão de theta3 de radianos para graus, com substituição do valor de pi\n",
    "Eq(theta4,round(theta4_deg,2)*deg)"
   ]
  },
  {
   "cell_type": "code",
   "execution_count": 54,
   "metadata": {},
   "outputs": [],
   "source": [
    "### 3.2.2 \tSolução Analítica para Análise de Velocidade"
   ]
  },
  {
   "cell_type": "code",
   "execution_count": 55,
   "metadata": {},
   "outputs": [
    {
     "data": {
      "text/html": [
       "<h3><left>Análise de velocidade</center></h3>"
      ],
      "text/plain": [
       "<IPython.core.display.HTML object>"
      ]
     },
     "metadata": {},
     "output_type": "display_data"
    }
   ],
   "source": [
    "display(HTML('<h3><left>Análise de velocidade</center></h3>'))"
   ]
  },
  {
   "cell_type": "code",
   "execution_count": 56,
   "metadata": {},
   "outputs": [],
   "source": [
    "#Trabalho elaborado através da Solução Analítica para Análise de Velocidade, com abordagem vetorial e com números complexos. "
   ]
  },
  {
   "cell_type": "code",
   "execution_count": 57,
   "metadata": {},
   "outputs": [],
   "source": [
    "#A vantagem da solução analítica se dá pela automação do processo, quando comparada a análise gráfica por exemplo."
   ]
  },
  {
   "cell_type": "code",
   "execution_count": 58,
   "metadata": {},
   "outputs": [],
   "source": [
    "#img = Image.open('vel.jpg')\n",
    "#width = 730\n",
    "#height = 430\n",
    "#img_resized = img.resize((width, height))\n",
    "#img_resized\n",
    "#img_resized.save('img_redimensionada.png')"
   ]
  },
  {
   "cell_type": "code",
   "execution_count": 59,
   "metadata": {},
   "outputs": [],
   "source": [
    "#Foi descoberto anteriormente na análise de posição os valores de $θ_2$, $θ_3$ e $θ_4$, assim como o $w_2$. Se sabe também os \n",
    "#comprimentos dos elos $R_1$, $R_2$, $R_3$ e $R_4$."
   ]
  },
  {
   "cell_type": "code",
   "execution_count": 60,
   "metadata": {},
   "outputs": [],
   "source": [
    "#Para descobrir então os valores de $w_3$ e $w_4$, assim também como as velocidades das juntas, serão realizados os procedimentos \n",
    "#abaixo como segue."
   ]
  },
  {
   "cell_type": "code",
   "execution_count": 61,
   "metadata": {},
   "outputs": [],
   "source": [
    "#Desenhando e analisando a malha fechada do nosso mecanismo, concluímos que:\n",
    "#$R_2 + R_3 - R_4 - R_1 = 0$\n",
    "#Sendo esta a equação vetorial da nossa malha fechada."
   ]
  },
  {
   "cell_type": "code",
   "execution_count": 62,
   "metadata": {},
   "outputs": [],
   "source": [
    "#Os vetores dos comprimentos dos elos serão então convertidos para a forma de números complexos, com a, b, c, d sendo os valores \n",
    "#escalares equivalentes."
   ]
  },
  {
   "cell_type": "code",
   "execution_count": 63,
   "metadata": {},
   "outputs": [],
   "source": [
    "#Declarando as seguintes variáveis em função do tempo:"
   ]
  },
  {
   "cell_type": "code",
   "execution_count": 64,
   "metadata": {},
   "outputs": [],
   "source": [
    "t = symbols('t') #variável simbólica"
   ]
  },
  {
   "cell_type": "code",
   "execution_count": 65,
   "metadata": {},
   "outputs": [],
   "source": [
    "theta2 = Function('theta2')(t)\n",
    "theta3 = Function('theta3')(t)\n",
    "theta4 = Function('theta4')(t)"
   ]
  },
  {
   "cell_type": "code",
   "execution_count": 66,
   "metadata": {},
   "outputs": [],
   "source": [
    "#Para comodidade usual da linguagem, já que a biblioteca sympy utiliza as seguintes notações de forma maisúscula, tem-se:"
   ]
  },
  {
   "cell_type": "code",
   "execution_count": 67,
   "metadata": {},
   "outputs": [],
   "source": [
    "e = E\n",
    "i = I"
   ]
  },
  {
   "cell_type": "code",
   "execution_count": 68,
   "metadata": {},
   "outputs": [],
   "source": [
    "#A partir da equação vetorial da malha fechada, obtem-se a mesma equação, só que em forma de números complexos:"
   ]
  },
  {
   "cell_type": "code",
   "execution_count": 69,
   "metadata": {},
   "outputs": [],
   "source": [
    "Eq5 = a*e**(i*theta2) + b*e**(i*theta3) - c*e**(i*theta4) - d*e**(i*theta1)\n",
    "#Eq5"
   ]
  },
  {
   "cell_type": "code",
   "execution_count": 70,
   "metadata": {},
   "outputs": [],
   "source": [
    "#Em primeiro lugar se deseja encontrar $ω_3$ e $ω_4$, será derivada então a equação 1 em relação ao tempo."
   ]
  },
  {
   "cell_type": "code",
   "execution_count": 71,
   "metadata": {},
   "outputs": [],
   "source": [
    "Eq6 = Eq5.diff(t)\n",
    "#Eq6"
   ]
  },
  {
   "cell_type": "code",
   "execution_count": 72,
   "metadata": {},
   "outputs": [],
   "source": [
    "#Agora, substituí-se as derivadas de $θ_2$, $θ_3$ e $θ_4$ no tempo por $w_2$, $w_3$ e $w_4$, respectivamente."
   ]
  },
  {
   "cell_type": "code",
   "execution_count": 73,
   "metadata": {},
   "outputs": [],
   "source": [
    "omega2,omega3,omega4 = symbols('omega2 omega3 omega4')"
   ]
  },
  {
   "cell_type": "code",
   "execution_count": 74,
   "metadata": {},
   "outputs": [],
   "source": [
    "dic_omegas = {theta2.diff(t):omega2,theta3.diff(t):omega3,theta4.diff(t):omega4}\n",
    "#dict_omegas"
   ]
  },
  {
   "cell_type": "code",
   "execution_count": 75,
   "metadata": {},
   "outputs": [],
   "source": [
    "#Substituindo os valores desse dicionário na equação 2, obtemos:"
   ]
  },
  {
   "cell_type": "code",
   "execution_count": 76,
   "metadata": {},
   "outputs": [],
   "source": [
    "Eq6 = Eq6.subs(dic_omegas)\n",
    "#Eq6"
   ]
  },
  {
   "cell_type": "code",
   "execution_count": 77,
   "metadata": {},
   "outputs": [],
   "source": [
    "#Temos definido então que:\\\n",
    "#\\\n",
    "#$V_A = iaω_2e^{iθ_2}$\\\n",
    "#$V_{BA} = ibω_3e^{iθ_3}$\\\n",
    "#$V_B = icω_4e^{iθ_4}$"
   ]
  },
  {
   "cell_type": "code",
   "execution_count": 78,
   "metadata": {},
   "outputs": [],
   "source": [
    "#Define-se então estas variáveis:"
   ]
  },
  {
   "cell_type": "code",
   "execution_count": 79,
   "metadata": {},
   "outputs": [],
   "source": [
    "#V_A + V_BA - V_B = 0 Eq(6.15a)\n",
    "\n",
    "#Eq(6.15b):\n",
    "V_A = i*a*omega2*e**(i*theta2)\n",
    "V_BA = i*b*omega3*e**(i*theta3)\n",
    "V_B = i*c*omega4*e**(i*theta4)"
   ]
  },
  {
   "cell_type": "code",
   "execution_count": 80,
   "metadata": {},
   "outputs": [],
   "source": [
    "#Declara-se a identidade de Euler atráves de um dicionário para posterior substituição."
   ]
  },
  {
   "cell_type": "code",
   "execution_count": 81,
   "metadata": {},
   "outputs": [],
   "source": [
    "id_euler = {e**(i*theta2): cos(theta2) + i*sin(theta2),\n",
    "            e**(i*theta3): cos(theta3) + i*sin(theta3),\n",
    "            e**(i*theta4): cos(theta4) + i*sin(theta4)}"
   ]
  },
  {
   "cell_type": "code",
   "execution_count": 82,
   "metadata": {},
   "outputs": [],
   "source": [
    "#A equação 3 será o resultado da substituição da identidade de Euler na equação 2."
   ]
  },
  {
   "cell_type": "code",
   "execution_count": 83,
   "metadata": {},
   "outputs": [],
   "source": [
    "Eq7 = Eq6.subs(id_euler)\n",
    "#eq7"
   ]
  },
  {
   "cell_type": "code",
   "execution_count": 84,
   "metadata": {},
   "outputs": [],
   "source": [
    "#Expandimos a equação 7:\n",
    "Eq7 = Eq7.expand()\n",
    "#Eq7"
   ]
  },
  {
   "cell_type": "code",
   "execution_count": 85,
   "metadata": {},
   "outputs": [],
   "source": [
    "#Agora, será separada a parte real presente na equação 7, substituindo os valores imaginários por zero."
   ]
  },
  {
   "cell_type": "code",
   "execution_count": 86,
   "metadata": {},
   "outputs": [],
   "source": [
    "Eq7_real = Eq7.subs(i,0)\n",
    "#Eq7_real"
   ]
  },
  {
   "cell_type": "code",
   "execution_count": 87,
   "metadata": {},
   "outputs": [],
   "source": [
    "#E será separada a parte imaginária presente na equação 3, subtraindo da equação 7 a parte real presente, restando então a parte \n",
    "#imaginária, sendo esta substituída por $i = 1$."
   ]
  },
  {
   "cell_type": "code",
   "execution_count": 88,
   "metadata": {},
   "outputs": [],
   "source": [
    "#Lembrando que i serve apenas como indicador geométrico (indica a direção do vetor).\n",
    "Eq7_im = (Eq7 - Eq7_real).subs(i,1)\n",
    "#Eq7_im"
   ]
  },
  {
   "cell_type": "code",
   "execution_count": 89,
   "metadata": {},
   "outputs": [],
   "source": [
    "#Adicionando ao dicionário dic as variáveis $\\theta_3$ e $\\theta_4$ calculadas anteriormente na análise de posição:"
   ]
  },
  {
   "cell_type": "code",
   "execution_count": 90,
   "metadata": {},
   "outputs": [],
   "source": [
    "dic[theta2] = theta2 #Adiciona ao dicionário dic theta2(t)\n",
    "dic[theta2] = theta2t #Atribui a theta2(t) o valor de theta2 recebido pelo usuário\n",
    "#dic"
   ]
  },
  {
   "cell_type": "code",
   "execution_count": 91,
   "metadata": {},
   "outputs": [],
   "source": [
    "dic[theta3] = theta3_rad\n",
    "dic[theta4] = theta4_rad"
   ]
  },
  {
   "cell_type": "code",
   "execution_count": 92,
   "metadata": {},
   "outputs": [
    {
     "data": {
      "text/html": [
       "<h4><left>Inserir o seguinte dado de entrada do mecanismo:</left></h4>"
      ],
      "text/plain": [
       "<IPython.core.display.HTML object>"
      ]
     },
     "metadata": {},
     "output_type": "display_data"
    }
   ],
   "source": [
    "display(HTML('<h4><left>Inserir o seguinte dado de entrada do mecanismo:</left></h4>'))"
   ]
  },
  {
   "cell_type": "code",
   "execution_count": 93,
   "metadata": {},
   "outputs": [
    {
     "name": "stdout",
     "output_type": "stream",
     "text": [
      "ω₂ [rad/s] = 25\n"
     ]
    }
   ],
   "source": [
    "while True:\n",
    "    try: \n",
    "        dic[omega2] = (float(input('\\u03C9\\u2082 [rad/s] = ')))\n",
    "        break\n",
    "    except ValueError:\n",
    "        print(\"Oops!  Esse não foi um número válido. Tente novamente...\")"
   ]
  },
  {
   "cell_type": "code",
   "execution_count": 94,
   "metadata": {},
   "outputs": [],
   "source": [
    "omega2t = dic[omega2] #Guarda valor de omega2 para posterior substituição em omega2(t)"
   ]
  },
  {
   "cell_type": "code",
   "execution_count": 95,
   "metadata": {},
   "outputs": [],
   "source": [
    "dic.update(dic_omegas)  #Dicionário dic recebe o dicionário dic_omegas\n",
    "#dic"
   ]
  },
  {
   "cell_type": "code",
   "execution_count": 96,
   "metadata": {},
   "outputs": [],
   "source": [
    "dic[theta2.diff(t)] = dic[omega2]\n",
    "#dic[i] = 1\n",
    "#dic"
   ]
  },
  {
   "cell_type": "code",
   "execution_count": 97,
   "metadata": {},
   "outputs": [],
   "source": [
    "#Calcula-se então a solução para os valores de $w_3$ e $w_4$, a partir da equação real e imaginária obtidas anteriormente."
   ]
  },
  {
   "cell_type": "code",
   "execution_count": 98,
   "metadata": {},
   "outputs": [],
   "source": [
    "sol_omegas = solve([Eq7_im,Eq7_real],omega3,omega4)\n",
    "#sol_omegas"
   ]
  },
  {
   "cell_type": "code",
   "execution_count": 99,
   "metadata": {},
   "outputs": [
    {
     "data": {
      "text/html": [
       "<h4><left>Resultados da análise:</left></h4>"
      ],
      "text/plain": [
       "<IPython.core.display.HTML object>"
      ]
     },
     "metadata": {},
     "output_type": "display_data"
    }
   ],
   "source": [
    "display(HTML('<h4><left>Resultados da análise:</left></h4>'))"
   ]
  },
  {
   "cell_type": "code",
   "execution_count": 100,
   "metadata": {},
   "outputs": [],
   "source": [
    "#### Velocidades angulares:"
   ]
  },
  {
   "cell_type": "code",
   "execution_count": 101,
   "metadata": {},
   "outputs": [
    {
     "name": "stdout",
     "output_type": "stream",
     "text": [
      "Velocidades angulares:\n"
     ]
    }
   ],
   "source": [
    "print('Velocidades angulares:')"
   ]
  },
  {
   "cell_type": "code",
   "execution_count": 102,
   "metadata": {},
   "outputs": [],
   "source": [
    "radps = symbols('rad/s')"
   ]
  },
  {
   "cell_type": "code",
   "execution_count": 103,
   "metadata": {},
   "outputs": [],
   "source": [
    "#Isolando então a soluções de $w_3$ e $w_4$ em função de $w_2$, obtendo assim, as velocidades angulares do nosso mecanismo."
   ]
  },
  {
   "cell_type": "code",
   "execution_count": 104,
   "metadata": {},
   "outputs": [
    {
     "data": {
      "text/latex": [
       "$\\displaystyle \\omega_{3} = - 5.87 rad/s$"
      ],
      "text/plain": [
       "Eq(omega3, -5.87*rad/s)"
      ]
     },
     "execution_count": 104,
     "metadata": {},
     "output_type": "execute_result"
    }
   ],
   "source": [
    "omega_3 = sol_omegas[omega3].subs(dic).evalf()\n",
    "Eq(omega3,round(omega_3,2)*radps)"
   ]
  },
  {
   "cell_type": "code",
   "execution_count": 105,
   "metadata": {},
   "outputs": [
    {
     "data": {
      "text/latex": [
       "$\\displaystyle \\omega_{4} = 7.93 rad/s$"
      ],
      "text/plain": [
       "Eq(omega4, 7.93*rad/s)"
      ]
     },
     "execution_count": 105,
     "metadata": {},
     "output_type": "execute_result"
    }
   ],
   "source": [
    "omega_4 = sol_omegas[omega4].subs(dic).evalf()\n",
    "Eq(omega4,round(omega_4,2)*radps)"
   ]
  },
  {
   "cell_type": "code",
   "execution_count": 106,
   "metadata": {},
   "outputs": [],
   "source": [
    "dic[omega3] = omega_3\n",
    "dic[omega4] = omega_4"
   ]
  },
  {
   "cell_type": "code",
   "execution_count": 107,
   "metadata": {},
   "outputs": [],
   "source": [
    "#### Velocidades lineares:"
   ]
  },
  {
   "cell_type": "code",
   "execution_count": 108,
   "metadata": {},
   "outputs": [
    {
     "name": "stdout",
     "output_type": "stream",
     "text": [
      "Velocidades lineares:\n"
     ]
    }
   ],
   "source": [
    "print('Velocidades lineares:')"
   ]
  },
  {
   "cell_type": "code",
   "execution_count": 109,
   "metadata": {},
   "outputs": [],
   "source": [
    "#Temos definido então que:\\\n",
    "#\\\n",
    "#$V_A = iaω_2e^{iθ_2}$\\\n",
    "#$V_{BA} = ibω_3e^{iθ_3}$\\\n",
    "#$V_B = icω_4e^{iθ_4}$"
   ]
  },
  {
   "cell_type": "code",
   "execution_count": 110,
   "metadata": {},
   "outputs": [],
   "source": [
    "#Substituindo as soluções de $w_3$ e $w_4$ nas equações de velocidade $V_A$, $V_BA$ e $V_B$, obtem-se as velocidades lineares do \n",
    "#mecanismo."
   ]
  },
  {
   "cell_type": "code",
   "execution_count": 111,
   "metadata": {},
   "outputs": [],
   "source": [
    "VA,VBA,VB = symbols('V_A V_BA V_B')"
   ]
  },
  {
   "cell_type": "code",
   "execution_count": 112,
   "metadata": {},
   "outputs": [],
   "source": [
    "mps = symbols('m/s')"
   ]
  },
  {
   "cell_type": "code",
   "execution_count": 113,
   "metadata": {},
   "outputs": [],
   "source": [
    "#abs(variavel) = retorna variavel em valor absoluto"
   ]
  },
  {
   "cell_type": "code",
   "execution_count": 114,
   "metadata": {},
   "outputs": [],
   "source": [
    "#Uma vez que $\\omega_3$ e $\\omega_4$ foram obtidos, pode-se encontrar as velocidades lineares substituindo as identidades de Euler \n",
    "#nas Eqs.(6.15) do Norton (2010)."
   ]
  },
  {
   "cell_type": "code",
   "execution_count": 115,
   "metadata": {},
   "outputs": [
    {
     "data": {
      "text/latex": [
       "$\\displaystyle V_{A} = 3.18 m/s$"
      ],
      "text/plain": [
       "Eq(V_A, 3.18*m/s)"
      ]
     },
     "execution_count": 115,
     "metadata": {},
     "output_type": "execute_result"
    }
   ],
   "source": [
    "V_A = V_A.subs(id_euler)\n",
    "V_A = V_A.subs(dic).evalf()\n",
    "V_A_real = V_A.subs(i,0)\n",
    "V_A_im = (V_A - V_A_real).subs(i,1)\n",
    "V_A_f = sqrt(V_A_real**2 + V_A_im**2)\n",
    "Eq(VA,round(V_A_f*10**-3,2)*mps) #Módulo de V_A"
   ]
  },
  {
   "cell_type": "code",
   "execution_count": 116,
   "metadata": {},
   "outputs": [
    {
     "data": {
      "text/latex": [
       "$\\displaystyle V_{BA} = 2.24 m/s$"
      ],
      "text/plain": [
       "Eq(V_BA, 2.24*m/s)"
      ]
     },
     "execution_count": 116,
     "metadata": {},
     "output_type": "execute_result"
    }
   ],
   "source": [
    "V_BA = V_BA.subs(id_euler)\n",
    "V_BA = V_BA.subs(dic).evalf()\n",
    "V_BA_real = V_BA.subs(i,0)\n",
    "V_BA_im = (V_BA - V_BA_real).subs(i,1)\n",
    "V_BA_f = sqrt(V_BA_real**2 + V_BA_im**2)\n",
    "Eq(VBA,round(V_BA_f*10**-3,2)*mps) #Módulo de V_BA"
   ]
  },
  {
   "cell_type": "code",
   "execution_count": 117,
   "metadata": {},
   "outputs": [
    {
     "data": {
      "text/latex": [
       "$\\displaystyle V_{B} = 2.01 m/s$"
      ],
      "text/plain": [
       "Eq(V_B, 2.01*m/s)"
      ]
     },
     "execution_count": 117,
     "metadata": {},
     "output_type": "execute_result"
    }
   ],
   "source": [
    "V_B = V_B.subs(id_euler)\n",
    "V_B = V_B.subs(dic).evalf()\n",
    "V_B_real = V_B.subs(i,0)\n",
    "V_B_im = (V_B - V_B_real).subs(i,1)\n",
    "V_B_f = sqrt(V_B_real**2 + V_B_im**2)\n",
    "Eq(VB,round(V_B_f*10**-3,2)*mps) #Módulo de V_B"
   ]
  },
  {
   "cell_type": "code",
   "execution_count": 118,
   "metadata": {},
   "outputs": [],
   "source": [
    "#Definindo as soluções de $θ_3$ e $θ_4$, obtemos:"
   ]
  },
  {
   "cell_type": "code",
   "execution_count": 119,
   "metadata": {},
   "outputs": [],
   "source": [
    "sol_theta3 = -2*atan((2*a*b*sin(theta2) - sqrt(-a**4 + 4*a**3*d*cos(theta2) + 4*a**2*b**2*sin(theta2)**2 +\n",
    "4*a**2*b**2*cos(theta2)**2 - 2*a**2*b**2 + 2*a**2*c**2 - 4*a**2*d**2*cos(theta2)**2 - 2*a**2*d**2 - \n",
    "4*a*b**2*d*cos(theta2) - 4*a*c**2*d*cos(theta2) + 4*a*d**3*cos(theta2) - b**4 + 2*b**2*c**2 + \n",
    "2*b**2*d**2 - c**4 + 2*c**2*d**2 - d**4))/(a**2 - 2*a*b*cos(theta2) - 2*a*d*cos(theta2) + b**2 + 2*b*d - c**2 + d**2))\n",
    "#Eq(theta3,sol_theta3.subs(dic).evalf())\n"
   ]
  },
  {
   "cell_type": "code",
   "execution_count": 120,
   "metadata": {},
   "outputs": [],
   "source": [
    "sol_theta4 = 2*atan((2*a*c*sin(theta2) - sqrt(-a**4 + 4*a**3*d*cos(theta2) + 2*a**2*b**2 + 4*a**2*c**2*sin(theta2)**2 +\n",
    "4*a**2*c**2*cos(theta2)**2 - 2*a**2*c**2 - 4*a**2*d**2*cos(theta2)**2 - 2*a**2*d**2 - 4*a*b**2*d*cos(theta2) - \n",
    "4*a*c**2*d*cos(theta2) + 4*a*d**3*cos(theta2) - b**4 + 2*b**2*c**2 + 2*b**2*d**2 - c**4 + 2*c**2*d**2 - d**4))/(a**2 + 2*a*c*cos(theta2) - \n",
    "2*a*d*cos(theta2) - b**2 + c**2 - 2*c*d + d**2))\n",
    "#Eq(theta4,sol_theta4.subs(dic).evalf())"
   ]
  },
  {
   "cell_type": "code",
   "execution_count": 121,
   "metadata": {},
   "outputs": [],
   "source": [
    "#Podemos calcular a relação de velocidade angular, dada pela velocidade angular de saída dividida pela velocidade angular de entrada.\n",
    "#$mV = ω_4/ω_2$"
   ]
  },
  {
   "cell_type": "code",
   "execution_count": 122,
   "metadata": {},
   "outputs": [],
   "source": [
    "mV = sol_omegas[omega4]/omega2\n",
    "#mV"
   ]
  },
  {
   "cell_type": "code",
   "execution_count": 123,
   "metadata": {},
   "outputs": [],
   "source": [
    "#Substituímos então as soluções de $θ_3$ e $θ_4$ obtidas na equação de $mV$."
   ]
  },
  {
   "cell_type": "code",
   "execution_count": 124,
   "metadata": {},
   "outputs": [],
   "source": [
    "mV = mV.subs(theta3,sol_theta3)\n",
    "mV = mV.subs(theta4,sol_theta4)"
   ]
  },
  {
   "cell_type": "code",
   "execution_count": 125,
   "metadata": {},
   "outputs": [],
   "source": [
    "#Definimos os comprimentos dos elos do mecanismo e os substituímos na equação da relação de velocidade angular."
   ]
  },
  {
   "cell_type": "code",
   "execution_count": 126,
   "metadata": {},
   "outputs": [],
   "source": [
    "elos = {a:dic[a],b:dic[b],c:dic[c],d:dic[d]}\n",
    "mV = mV.subs(elos)"
   ]
  },
  {
   "cell_type": "code",
   "execution_count": 127,
   "metadata": {},
   "outputs": [],
   "source": [
    "#Para plotar o gráfico $mV$ x $θ_2$, declaramos que $θ_2$ deve variar de 0° até 360° e, que $mV$ deve variar enquanto $θ_2$ sofrer \n",
    "#alteração."
   ]
  },
  {
   "cell_type": "code",
   "execution_count": 128,
   "metadata": {},
   "outputs": [],
   "source": [
    "import numpy as np"
   ]
  },
  {
   "cell_type": "code",
   "execution_count": 129,
   "metadata": {},
   "outputs": [],
   "source": [
    "theta2_list = np.linspace(0,2*np.pi,360)"
   ]
  },
  {
   "cell_type": "code",
   "execution_count": 130,
   "metadata": {},
   "outputs": [],
   "source": [
    "mV_list = []\n",
    "for i in range(0,len(theta2_list)):\n",
    "    mV_list.append(mV.subs(theta2,theta2_list[i]))"
   ]
  },
  {
   "cell_type": "code",
   "execution_count": 131,
   "metadata": {},
   "outputs": [],
   "source": [
    "#Com todos os aspectos definidos, podemos configurar o gráfico para plotá-lo."
   ]
  },
  {
   "cell_type": "code",
   "execution_count": 132,
   "metadata": {},
   "outputs": [],
   "source": [
    "#import matplotlib.pyplot as plt\n",
    "\n",
    "grashof = (S+L)<soma_PQ\n",
    "\n",
    "def graf_vel_grashof():\n",
    "    if grashof:\n",
    "        \n",
    "        plt.figure(dpi=100)\n",
    "        plt.plot(theta2_list,mV_list)\n",
    "        plt.xlabel(r'$\\theta_2(t)$')\n",
    "        plt.ylabel(r'$m_V$')\n",
    "        plt.title('Relação de velocidade angular')\n",
    "        plt.grid(False)\n",
    "        \n",
    "        return plt.show()\n",
    "    else:\n",
    "        pass"
   ]
  },
  {
   "cell_type": "code",
   "execution_count": 133,
   "metadata": {},
   "outputs": [
    {
     "data": {
      "image/png": "[encoded data removed]",
      "text/plain": [
       "<Figure size 640x480 with 1 Axes>"
      ]
     },
     "metadata": {},
     "output_type": "display_data"
    }
   ],
   "source": [
    "graf_vel_grashof()"
   ]
  },
  {
   "cell_type": "code",
   "execution_count": 134,
   "metadata": {},
   "outputs": [],
   "source": [
    "### 3.2.3 \tSolução Analítica para Análise de Aceleração"
   ]
  },
  {
   "cell_type": "code",
   "execution_count": 135,
   "metadata": {},
   "outputs": [
    {
     "data": {
      "text/html": [
       "<h3><left>Análise de aceleração</center></h3>"
      ],
      "text/plain": [
       "<IPython.core.display.HTML object>"
      ]
     },
     "metadata": {},
     "output_type": "display_data"
    }
   ],
   "source": [
    "display(HTML('<h3><left>Análise de aceleração</center></h3>'))"
   ]
  },
  {
   "cell_type": "code",
   "execution_count": 136,
   "metadata": {},
   "outputs": [],
   "source": [
    "#Trabalho elaborado utilizando a Solução Analítica para Análise de Aceleração, pela Equação vetorial da malha fechada."
   ]
  },
  {
   "cell_type": "code",
   "execution_count": 137,
   "metadata": {},
   "outputs": [],
   "source": [
    "#A vantagem da solução analítica se dá pela automação do processo, quando comparada a análise gráfica por exemplo."
   ]
  },
  {
   "cell_type": "code",
   "execution_count": 138,
   "metadata": {},
   "outputs": [],
   "source": [
    "#Em Dinâmica das máquinas: necessário conhecer as acelerações dos centros de massa do mecanismo para aplicar a\n",
    "#Segunda Lei de Newton (F = m.a)."
   ]
  },
  {
   "cell_type": "code",
   "execution_count": 139,
   "metadata": {},
   "outputs": [],
   "source": [
    "#img = Image.open('ace.jpg')\n",
    "#width = 650\n",
    "#height = 430\n",
    "#img_resized = img.resize((width, height))\n",
    "#img_resized\n",
    "#img_resized.save('img_redimensionada.png')"
   ]
  },
  {
   "cell_type": "code",
   "execution_count": 140,
   "metadata": {},
   "outputs": [],
   "source": [
    "#Já que a aceleração é a taxa de variação da velocidade, tem-se:\\\n",
    "#$\\alpha_2 = \\dfrac{d\\omega}{dt}$; $\\vec{A} = \\dfrac{d\\vec{V}}{dt}$"
   ]
  },
  {
   "cell_type": "code",
   "execution_count": 141,
   "metadata": {},
   "outputs": [],
   "source": [
    "#Note que a aceleração angular pode ser tida como escalar devido se tratar de um sistema 2D (mesma direção)."
   ]
  },
  {
   "cell_type": "code",
   "execution_count": 142,
   "metadata": {},
   "outputs": [],
   "source": [
    "#Aceleração tangencial: termo multiplicado por i é perpendicular a direção radial do vetor posição."
   ]
  },
  {
   "cell_type": "code",
   "execution_count": 143,
   "metadata": {},
   "outputs": [],
   "source": [
    "#Aceleração centrípeta (normal): termo não multiplicado por i que se encontra na mesma direção do vetor posição."
   ]
  },
  {
   "cell_type": "code",
   "execution_count": 144,
   "metadata": {},
   "outputs": [],
   "source": [
    "#Reescrevendo novamente as variáveis para possível visualização das equações sem valores numéricos:"
   ]
  },
  {
   "cell_type": "code",
   "execution_count": 145,
   "metadata": {},
   "outputs": [],
   "source": [
    "a,b,c,d = symbols('a b c d')\n",
    "theta1 = ('theta1')\n",
    "t = symbols('t')"
   ]
  },
  {
   "cell_type": "code",
   "execution_count": 146,
   "metadata": {},
   "outputs": [],
   "source": [
    "theta2 = Function('theta2')(t)\n",
    "theta3 = Function('theta3')(t)\n",
    "theta4 = Function('theta4')(t)"
   ]
  },
  {
   "cell_type": "code",
   "execution_count": 147,
   "metadata": {},
   "outputs": [],
   "source": [
    "e = E\n",
    "i = I"
   ]
  },
  {
   "cell_type": "code",
   "execution_count": 148,
   "metadata": {},
   "outputs": [],
   "source": [
    "#Escrevendo novamente a equação da malha vetorial:\n",
    "Eq8 = a*e**(i*theta2) + b*e**(i*theta3) - c*e**(i*theta4) #- d*e**(i*theta1)\n",
    "#Eq8"
   ]
  },
  {
   "cell_type": "code",
   "execution_count": 149,
   "metadata": {},
   "outputs": [],
   "source": [
    "Eq9 = Eq8.diff(t)\n",
    "#Eq9"
   ]
  },
  {
   "cell_type": "code",
   "execution_count": 150,
   "metadata": {},
   "outputs": [],
   "source": [
    "omega2 = Function('omega2')(t)\n",
    "omega3 = Function('omega3')(t)\n",
    "omega4 = Function('omega4')(t)"
   ]
  },
  {
   "cell_type": "code",
   "execution_count": 151,
   "metadata": {},
   "outputs": [],
   "source": [
    "dic_omegas[theta2.diff(t)] = omega2\n",
    "dic_omegas[theta3.diff(t)] = omega3\n",
    "dic_omegas[theta4.diff(t)] = omega4\n",
    "#dic_omegas"
   ]
  },
  {
   "cell_type": "code",
   "execution_count": 152,
   "metadata": {},
   "outputs": [],
   "source": [
    "dic.update(dic_omegas)\n",
    "#dic"
   ]
  },
  {
   "cell_type": "code",
   "execution_count": 153,
   "metadata": {},
   "outputs": [],
   "source": [
    "#Agora, substituí-se na Eq(6) as derivadas de $θ_2$, $θ_3$ e $θ_4$ no tempo por $w_2(t)$, $w_3(t)$ e $w_4(t)$, respectivamente."
   ]
  },
  {
   "cell_type": "code",
   "execution_count": 154,
   "metadata": {},
   "outputs": [],
   "source": [
    "Eq10 = Eq9.subs(dic_omegas)\n",
    "#Eq10"
   ]
  },
  {
   "cell_type": "code",
   "execution_count": 155,
   "metadata": {},
   "outputs": [],
   "source": [
    "Eq11 = Eq10.diff(t)\n",
    "#Eq11"
   ]
  },
  {
   "cell_type": "code",
   "execution_count": 156,
   "metadata": {},
   "outputs": [],
   "source": [
    "Eq11 = Eq11.subs(dic_omegas)\n",
    "#Eq11"
   ]
  },
  {
   "cell_type": "code",
   "execution_count": 157,
   "metadata": {},
   "outputs": [],
   "source": [
    "alpha2 = Function('alpha2')(t)\n",
    "alpha3 = Function('alpha3')(t)\n",
    "alpha4 = Function('alpha4')(t)"
   ]
  },
  {
   "cell_type": "code",
   "execution_count": 158,
   "metadata": {},
   "outputs": [],
   "source": [
    "dic_alphas = {omega2.diff(t):alpha2,omega3.diff(t):alpha3,omega4.diff(t):alpha4}"
   ]
  },
  {
   "cell_type": "code",
   "execution_count": 159,
   "metadata": {},
   "outputs": [],
   "source": [
    "Eq11 = Eq11.subs(dic_alphas)\n",
    "#Eq11"
   ]
  },
  {
   "cell_type": "code",
   "execution_count": 160,
   "metadata": {},
   "outputs": [],
   "source": [
    "Eq12 = Eq11.subs(id_euler)\n",
    "Eq12 = Eq12.expand()\n",
    "#Eq12"
   ]
  },
  {
   "cell_type": "code",
   "execution_count": 161,
   "metadata": {},
   "outputs": [],
   "source": [
    "Eq12_real = Eq12.subs(i,0)\n",
    "#Eq12_real"
   ]
  },
  {
   "cell_type": "code",
   "execution_count": 162,
   "metadata": {},
   "outputs": [],
   "source": [
    "#Lembrando que i serve apenas como indicador geométrico (indica a direção do vetor).\n",
    "Eq12_im = (Eq12 - Eq12_real).subs(i,1)\n",
    "#Eq12_im"
   ]
  },
  {
   "cell_type": "code",
   "execution_count": 163,
   "metadata": {},
   "outputs": [],
   "source": [
    "sol_alphas = solve([Eq12_real,Eq12_im],alpha3,alpha4)\n",
    "#sol_alphas"
   ]
  },
  {
   "cell_type": "code",
   "execution_count": 164,
   "metadata": {},
   "outputs": [],
   "source": [
    "#Atualizando o dicionário dic e recebendo alpha2 do usuário:"
   ]
  },
  {
   "cell_type": "code",
   "execution_count": 165,
   "metadata": {},
   "outputs": [],
   "source": [
    "dic[omega2] = omega2 #Adiciona ao dicionário dic omega2(t)\n",
    "dic[omega2] = omega2t #Atribui a omega2(t) o valor de omega2 recebido pelo usuário\n",
    "#dic"
   ]
  },
  {
   "cell_type": "code",
   "execution_count": 166,
   "metadata": {},
   "outputs": [],
   "source": [
    "dic[omega3] = omega_3\n",
    "dic[omega4] = omega_4\n",
    "#dic"
   ]
  },
  {
   "cell_type": "code",
   "execution_count": 167,
   "metadata": {},
   "outputs": [
    {
     "data": {
      "text/html": [
       "<h4><left>Inserir o seguinte dado de entrada do mecanismo:</left></h4>"
      ],
      "text/plain": [
       "<IPython.core.display.HTML object>"
      ]
     },
     "metadata": {},
     "output_type": "display_data"
    }
   ],
   "source": [
    "display(HTML('<h4><left>Inserir o seguinte dado de entrada do mecanismo:</left></h4>'))"
   ]
  },
  {
   "cell_type": "code",
   "execution_count": 168,
   "metadata": {},
   "outputs": [
    {
     "name": "stdout",
     "output_type": "stream",
     "text": [
      "α₂ [rad/s²] = -40\n"
     ]
    }
   ],
   "source": [
    "while True:\n",
    "    try: \n",
    "        dic[alpha2] = (float(input('\\u03B1\\u2082 [rad/s\\u00B2] = ')))\n",
    "        break\n",
    "    except ValueError:\n",
    "        print(\"Oops!  Esse não foi um número válido. Tente novamente...\") "
   ]
  },
  {
   "cell_type": "code",
   "execution_count": 169,
   "metadata": {},
   "outputs": [],
   "source": [
    "#dic"
   ]
  },
  {
   "cell_type": "code",
   "execution_count": 170,
   "metadata": {},
   "outputs": [
    {
     "data": {
      "text/html": [
       "<h4><left>Resultados da análise:</left></h4>"
      ],
      "text/plain": [
       "<IPython.core.display.HTML object>"
      ]
     },
     "metadata": {},
     "output_type": "display_data"
    }
   ],
   "source": [
    "display(HTML('<h4><left>Resultados da análise:</left></h4>'))"
   ]
  },
  {
   "cell_type": "code",
   "execution_count": 171,
   "metadata": {},
   "outputs": [],
   "source": [
    "#Resultados das acelerações angulares $\\alpha_3$ e $\\alpha_4$, respectivamente:"
   ]
  },
  {
   "cell_type": "code",
   "execution_count": 172,
   "metadata": {},
   "outputs": [
    {
     "name": "stdout",
     "output_type": "stream",
     "text": [
      "Acelerações angulares:\n"
     ]
    }
   ],
   "source": [
    "print(\"Acelerações angulares:\")"
   ]
  },
  {
   "cell_type": "code",
   "execution_count": 173,
   "metadata": {},
   "outputs": [],
   "source": [
    "radps2 = symbols('rad/s^2')"
   ]
  },
  {
   "cell_type": "code",
   "execution_count": 174,
   "metadata": {},
   "outputs": [
    {
     "data": {
      "text/latex": [
       "$\\displaystyle \\alpha_{3} = 120.9 rad/s^{2}$"
      ],
      "text/plain": [
       "Eq(alpha3, 120.9*rad/s^2)"
      ]
     },
     "execution_count": 174,
     "metadata": {},
     "output_type": "execute_result"
    }
   ],
   "source": [
    "alpha3_sy = symbols('alpha3')\n",
    "alpha_3 = sol_alphas[alpha3].subs(dic).evalf()\n",
    "Eq(alpha3_sy,round(alpha_3,2)*radps2)"
   ]
  },
  {
   "cell_type": "code",
   "execution_count": 175,
   "metadata": {},
   "outputs": [
    {
     "data": {
      "text/latex": [
       "$\\displaystyle \\alpha_{4} = 276.29 rad/s^{2}$"
      ],
      "text/plain": [
       "Eq(alpha4, 276.29*rad/s^2)"
      ]
     },
     "execution_count": 175,
     "metadata": {},
     "output_type": "execute_result"
    }
   ],
   "source": [
    "alpha4_sy = symbols('alpha4')\n",
    "alpha_4 = sol_alphas[alpha4].subs(dic).evalf()\n",
    "Eq(alpha4_sy,round(alpha_4,2)*radps2)"
   ]
  },
  {
   "cell_type": "code",
   "execution_count": 176,
   "metadata": {},
   "outputs": [],
   "source": [
    "#Guardando os valores obtidos no dicionário dic:\n",
    "dic[alpha3] = alpha_3\n",
    "dic[alpha4] = alpha_4"
   ]
  },
  {
   "cell_type": "code",
   "execution_count": 177,
   "metadata": {},
   "outputs": [],
   "source": [
    "#Da Eq(11) constam os termos das acelerações tangenciais e normais de $\\vec{A}_A  + \\vec{A}_{BA} - \\vec{A}_B$, respectivamente.\\\n",
    "#Lembrando que $\\vec{A}_A  + \\vec{A}_{BA} - \\vec{A}_B = 0$"
   ]
  },
  {
   "cell_type": "code",
   "execution_count": 178,
   "metadata": {},
   "outputs": [],
   "source": [
    "#Eqs.(7.21) do Norton (2010):"
   ]
  },
  {
   "cell_type": "code",
   "execution_count": 179,
   "metadata": {},
   "outputs": [],
   "source": [
    "A_A = i*a*alpha2*e**(i*theta2) - a*omega2**2*e**(i*theta2)\n",
    "#A_A"
   ]
  },
  {
   "cell_type": "code",
   "execution_count": 180,
   "metadata": {},
   "outputs": [],
   "source": [
    "#A_BA = i*b*alpha3*e**(i*theta3) - b*omega3**2*e**(i*theta3)\n",
    "A_BA = b*alpha3*(-sin(theta3)+i*cos(theta3)) - b*(omega3**2)*(cos(theta3)+i*sin(theta3))\n",
    "#A_BA"
   ]
  },
  {
   "cell_type": "code",
   "execution_count": 181,
   "metadata": {},
   "outputs": [],
   "source": [
    "A_B = i*c*alpha4*e**(i*theta4) - c*omega4**2*e**(i*theta4)\n",
    "#A_B"
   ]
  },
  {
   "cell_type": "code",
   "execution_count": 182,
   "metadata": {},
   "outputs": [],
   "source": [
    "#Organizando alguns resultados previamente calculados:"
   ]
  },
  {
   "cell_type": "code",
   "execution_count": 183,
   "metadata": {},
   "outputs": [],
   "source": [
    "#Do Capítulo 4:\n",
    "sol_thetas = {theta3:sol_theta3,theta4:sol_theta4}"
   ]
  },
  {
   "cell_type": "code",
   "execution_count": 184,
   "metadata": {},
   "outputs": [],
   "source": [
    "#Do Capítulo 6:\n",
    "sol_omegas = {omega3: -a*omega2*sin(theta2 - theta4)/(b*sin(theta3 - theta4)),\n",
    "            omega4: -a*omega2*sin(theta2 - theta3)/(c*sin(theta3 - theta4))}"
   ]
  },
  {
   "cell_type": "code",
   "execution_count": 185,
   "metadata": {},
   "outputs": [],
   "source": [
    "#Resultados das acelerações lineares $\\vec{A}_A$ e $\\vec{A}_B$, respectivamente:"
   ]
  },
  {
   "cell_type": "code",
   "execution_count": 186,
   "metadata": {},
   "outputs": [
    {
     "name": "stdout",
     "output_type": "stream",
     "text": [
      "Acelerações absolutas:\n"
     ]
    }
   ],
   "source": [
    "print(\"Acelerações absolutas:\")"
   ]
  },
  {
   "cell_type": "code",
   "execution_count": 187,
   "metadata": {},
   "outputs": [],
   "source": [
    "AA,ABA,AB = symbols('A_A A_BA A_B')"
   ]
  },
  {
   "cell_type": "code",
   "execution_count": 188,
   "metadata": {},
   "outputs": [],
   "source": [
    "mps2 = symbols('m/s^2')"
   ]
  },
  {
   "cell_type": "code",
   "execution_count": 189,
   "metadata": {},
   "outputs": [],
   "source": [
    "#Obtem-se os módulos das acelerações ao substituir as Eqs.(7.21) do Norton (2010) pelas identidades de Euler e calcular o módulo das \n",
    "#componentes real (aceleração normal) e imaginária (aceleração tangencial) das acelerações."
   ]
  },
  {
   "cell_type": "code",
   "execution_count": 190,
   "metadata": {},
   "outputs": [],
   "source": [
    "#Vetor A_A"
   ]
  },
  {
   "cell_type": "code",
   "execution_count": 191,
   "metadata": {},
   "outputs": [],
   "source": [
    "#Aceleração normal A_A\n",
    "#A_A_nor = A_A.subs(i,0)\n",
    "#AA_nor = symbols('A_An')\n",
    "#A_A_nor = A_A_nor.subs(dic).evalf()\n",
    "#Eq(AA_nor,A_A_nor)"
   ]
  },
  {
   "cell_type": "code",
   "execution_count": 192,
   "metadata": {},
   "outputs": [],
   "source": [
    "#Aceleração tangencial A_A\n",
    "#A_A_tan = (A_A - A_A_nor).subs(i,1)\n",
    "#AA_tan = symbols('A_Atan')\n",
    "#A_A_tan = A_A_tan.subs(dic).evalf()\n",
    "#Eq(AA_tan,A_A_tan)"
   ]
  },
  {
   "cell_type": "code",
   "execution_count": 193,
   "metadata": {},
   "outputs": [
    {
     "data": {
      "text/latex": [
       "$\\displaystyle A_{A} = 79.54 m/s^{2}$"
      ],
      "text/plain": [
       "Eq(A_A, 79.54*m/s^2)"
      ]
     },
     "execution_count": 193,
     "metadata": {},
     "output_type": "execute_result"
    }
   ],
   "source": [
    "A_A = A_A.subs(id_euler).subs(dic).evalf()\n",
    "A_A_real = A_A.subs(i,0) #Aceleração normal\n",
    "A_A_im = (A_A - A_A_real).subs(i,1) #Aceleração tangencial\n",
    "A_A_f = sqrt(A_A_real**2 + A_A_im**2) #Módulo da aceleração\n",
    "Eq(AA,round(A_A_f*10**-3,2)*mps2)"
   ]
  },
  {
   "cell_type": "code",
   "execution_count": 194,
   "metadata": {},
   "outputs": [],
   "source": [
    "#Vetor A_BA"
   ]
  },
  {
   "cell_type": "code",
   "execution_count": 195,
   "metadata": {},
   "outputs": [],
   "source": [
    "#Aceleração normal A_BA\n",
    "A_BA_nor = A_BA.subs(i,0)\n",
    "ABA_nor = symbols('A_BAn')\n",
    "#Eq(ABA_nor,A_BA_nor.subs(dic).evalf())\n",
    "A_BA_nor = A_BA_nor.subs(sol_alphas).subs(sol_omegas).subs(sol_thetas)\n",
    "A_BA_nor = A_BA_nor*10**-3\n",
    "#A_BA_nor"
   ]
  },
  {
   "cell_type": "code",
   "execution_count": 196,
   "metadata": {},
   "outputs": [],
   "source": [
    "#Aceleração tangencial A_BA\n",
    "A_BA_tan = (A_BA - A_BA_nor).subs(i,1)\n",
    "ABA_tan = symbols('A_BAtan')\n",
    "#Eq(ABA_tan,A_BA_tan.subs(dic).evalf())\n",
    "A_BA_tan = A_BA_tan.subs(sol_alphas).subs(sol_omegas).subs(sol_thetas)\n",
    "A_BA_tan = A_BA_tan*10**-3\n",
    "#A_BA_tan"
   ]
  },
  {
   "cell_type": "code",
   "execution_count": 197,
   "metadata": {},
   "outputs": [
    {
     "data": {
      "text/latex": [
       "$\\displaystyle A_{BA} = 47.9 m/s^{2}$"
      ],
      "text/plain": [
       "Eq(A_BA, 47.9*m/s^2)"
      ]
     },
     "execution_count": 197,
     "metadata": {},
     "output_type": "execute_result"
    }
   ],
   "source": [
    "A_BA = A_BA.subs(id_euler).subs(dic).evalf()\n",
    "A_BA_real = A_BA.subs(i,0) #Aceleração normal \n",
    "A_BA_im = (A_BA - A_BA_real).subs(i,1) #Aceleração tangencial\n",
    "A_BA_f = sqrt(A_BA_real**2 + A_BA_im**2) #Módulo da aceleração\n",
    "Eq(ABA,round(A_BA_f.subs(dic).evalf()*10**-3,2)*mps2)"
   ]
  },
  {
   "cell_type": "code",
   "execution_count": 198,
   "metadata": {},
   "outputs": [],
   "source": [
    "#Vetor A_B"
   ]
  },
  {
   "cell_type": "code",
   "execution_count": 199,
   "metadata": {},
   "outputs": [],
   "source": [
    "A_B = A_B.subs(id_euler).expand()\n",
    "#A_B"
   ]
  },
  {
   "cell_type": "code",
   "execution_count": 200,
   "metadata": {},
   "outputs": [],
   "source": [
    "#Aceleração normal A_B\n",
    "A_B_nor = A_B.subs(i,0)\n",
    "AB_nor = symbols('A_Bn')\n",
    "#Eq(AB_nor,A_B_nor.subs(dic).evalf())\n",
    "A_B_nor = A_B_nor.subs(sol_alphas).subs(sol_omegas).subs(sol_thetas)\n",
    "A_B_nor = A_B_nor*10**-3\n",
    "#A_B_nor"
   ]
  },
  {
   "cell_type": "code",
   "execution_count": 201,
   "metadata": {},
   "outputs": [],
   "source": [
    "#Aceleração tangencial A_A\n",
    "A_B_tan = (A_B - A_B_nor).subs(i,1)\n",
    "AB_tan = symbols('A_Btan')\n",
    "#Eq(AB_tan,A_B_tan.subs(dic).evalf())\n",
    "A_B_tan = A_B_tan.subs(sol_alphas).subs(sol_omegas).subs(sol_thetas)\n",
    "A_B_tan = A_B_tan*10**-3\n",
    "#A_B_tan"
   ]
  },
  {
   "cell_type": "code",
   "execution_count": 202,
   "metadata": {},
   "outputs": [
    {
     "data": {
      "text/latex": [
       "$\\displaystyle A_{B} = 71.97 m/s^{2}$"
      ],
      "text/plain": [
       "Eq(A_B, 71.97*m/s^2)"
      ]
     },
     "execution_count": 202,
     "metadata": {},
     "output_type": "execute_result"
    }
   ],
   "source": [
    "A_B = A_B.subs(id_euler).subs(dic).evalf()\n",
    "A_B_real = A_B.subs(i,0) #Aceleração normal \n",
    "A_B_im = (A_B - A_B_real).subs(i,1) #Aceleração tangencial\n",
    "A_B_f = sqrt(A_B_real**2 + A_B_im**2) #Módulo da aceleração\n",
    "Eq(AB,round(A_B_f*10**-3,2)*mps2)"
   ]
  },
  {
   "cell_type": "code",
   "execution_count": 203,
   "metadata": {},
   "outputs": [],
   "source": [
    "par = {}\n",
    "par[a] = dic[a]\n",
    "par[b] = dic[b]\n",
    "par[c] = dic[c]\n",
    "par[d] = dic [d]\n",
    "par[omega2] = dic[omega2]\n",
    "par[alpha2] = dic[alpha2]\n",
    "#par"
   ]
  },
  {
   "cell_type": "code",
   "execution_count": 204,
   "metadata": {},
   "outputs": [],
   "source": [
    "alpha3_list = []\n",
    "\n",
    "for j in range(0,360):\n",
    "    alpha3_list.append(sol_theta3.subs(par).subs(theta2,theta2_list[j]))"
   ]
  },
  {
   "cell_type": "code",
   "execution_count": 205,
   "metadata": {},
   "outputs": [],
   "source": [
    "def graf_ace1_grashof():\n",
    "    if grashof:\n",
    "    \n",
    "        plt.figure(dpi=100)\n",
    "        plt.plot(theta2_list,alpha3_list)\n",
    "        plt.title('Aceleração angular do elo do acoplador pelo deslocamento angular do elo motor')\n",
    "        plt.xlabel(r'$\\theta_2(t)$')\n",
    "        plt.ylabel(r'$\\alpha_3(t)$')\n",
    "        plt.grid(False)\n",
    "\n",
    "        return plt.show()\n",
    "    else:\n",
    "        pass"
   ]
  },
  {
   "cell_type": "code",
   "execution_count": 206,
   "metadata": {},
   "outputs": [
    {
     "data": {
      "image/png": "[encoded data removed]",
      "text/plain": [
       "<Figure size 640x480 with 1 Axes>"
      ]
     },
     "metadata": {},
     "output_type": "display_data"
    }
   ],
   "source": [
    "graf_ace1_grashof()"
   ]
  },
  {
   "cell_type": "code",
   "execution_count": 207,
   "metadata": {},
   "outputs": [],
   "source": [
    "alpha4_list = []\n",
    "\n",
    "for j in range(0,360):\n",
    "    alpha4_list.append(sol_theta4.subs(par).subs(theta2,theta2_list[j]))"
   ]
  },
  {
   "cell_type": "code",
   "execution_count": 208,
   "metadata": {
    "scrolled": false
   },
   "outputs": [],
   "source": [
    "def graf_ace2_grashof():\n",
    "    if grashof:\n",
    "\n",
    "        plt.figure(dpi=100)\n",
    "        plt.plot(theta2_list,alpha4_list)\n",
    "        plt.title('Aceleração angular do elo de saída pelo deslocamento angular do elo motor')\n",
    "        plt.xlabel(r'$\\theta_2(t)$')\n",
    "        plt.ylabel(r'$\\alpha_4(t)$')\n",
    "        plt.grid(False)\n",
    "\n",
    "        return plt.show()\n",
    "    else:\n",
    "        pass"
   ]
  },
  {
   "cell_type": "code",
   "execution_count": 209,
   "metadata": {},
   "outputs": [
    {
     "data": {
      "image/png": "[encoded data removed]",
      "text/plain": [
       "<Figure size 640x480 with 1 Axes>"
      ]
     },
     "metadata": {},
     "output_type": "display_data"
    }
   ],
   "source": [
    "graf_ace2_grashof()"
   ]
  },
  {
   "cell_type": "code",
   "execution_count": 210,
   "metadata": {},
   "outputs": [],
   "source": [
    "A_BA_nor_list = []\n",
    "A_BA_tan_list = []\n",
    "for j in range(0,360):\n",
    "    A_BA_nor_list.append(A_BA_nor.subs(par).subs(theta2,theta2_list[j]))\n",
    "    A_BA_tan_list.append(A_BA_tan.subs(par).subs(theta2,theta2_list[j]))"
   ]
  },
  {
   "cell_type": "code",
   "execution_count": 211,
   "metadata": {},
   "outputs": [],
   "source": [
    "def graf_ace3_grashof():\n",
    "    if grashof:\n",
    "\n",
    "        plt.figure(dpi=100)\n",
    "        plt.plot(theta2_list,A_BA_nor_list)\n",
    "        plt.title('Aceleração normal do elo do acoplador pelo deslocamento angular do elo motor')\n",
    "        plt.xlabel(r'$\\theta_2(t)$')\n",
    "        plt.ylabel(r'$A^{n}_{BA}(t)$')\n",
    "        plt.grid(False)\n",
    "\n",
    "        return plt.show()\n",
    "    else:\n",
    "        pass"
   ]
  },
  {
   "cell_type": "code",
   "execution_count": 212,
   "metadata": {},
   "outputs": [
    {
     "data": {
      "image/png": "[encoded data removed]",
      "text/plain": [
       "<Figure size 640x480 with 1 Axes>"
      ]
     },
     "metadata": {},
     "output_type": "display_data"
    }
   ],
   "source": [
    "graf_ace3_grashof()"
   ]
  },
  {
   "cell_type": "code",
   "execution_count": 213,
   "metadata": {},
   "outputs": [],
   "source": [
    "def graf_ace4_grashof():\n",
    "    if grashof:\n",
    "\n",
    "        plt.figure(dpi=100)\n",
    "        plt.plot(theta2_list,A_BA_tan_list)\n",
    "        plt.title('Aceleração tangencial do elo do acoplador pelo deslocamento angular do elo motor')\n",
    "        plt.xlabel(r'$\\theta_2(t)$')\n",
    "        plt.ylabel(r'$A^{t}_{BA}(t)$')\n",
    "        plt.grid(False)\n",
    "\n",
    "        return plt.show()\n",
    "    else:\n",
    "        pass"
   ]
  },
  {
   "cell_type": "code",
   "execution_count": 214,
   "metadata": {},
   "outputs": [
    {
     "data": {
      "image/png": "[encoded data removed]",
      "text/plain": [
       "<Figure size 640x480 with 1 Axes>"
      ]
     },
     "metadata": {},
     "output_type": "display_data"
    }
   ],
   "source": [
    "graf_ace4_grashof()"
   ]
  },
  {
   "cell_type": "code",
   "execution_count": 215,
   "metadata": {},
   "outputs": [],
   "source": [
    "A_B_nor_list = []\n",
    "A_B_tan_list = []\n",
    "for j in range(0,360):\n",
    "    A_B_nor_list.append(A_B_nor.subs(par).subs(theta2,theta2_list[j]))\n",
    "    A_B_tan_list.append(A_B_tan.subs(par).subs(theta2,theta2_list[j]))"
   ]
  },
  {
   "cell_type": "code",
   "execution_count": 216,
   "metadata": {},
   "outputs": [],
   "source": [
    "def graf_ace5_grashof():\n",
    "    if grashof:\n",
    "\n",
    "        plt.figure(dpi=100)\n",
    "        plt.plot(theta2_list,A_B_nor_list)\n",
    "        plt.title('Aceleração normal do elo de saída pelo deslocamento angular do elo motor')\n",
    "        plt.xlabel(r'$\\theta_2(t)$')\n",
    "        plt.ylabel(r'$A^{n}_B(t)$')\n",
    "        plt.grid(False)\n",
    "\n",
    "        return plt.show()\n",
    "    else:\n",
    "        pass"
   ]
  },
  {
   "cell_type": "code",
   "execution_count": 217,
   "metadata": {},
   "outputs": [
    {
     "data": {
      "image/png": "[encoded data removed]",
      "text/plain": [
       "<Figure size 640x480 with 1 Axes>"
      ]
     },
     "metadata": {},
     "output_type": "display_data"
    }
   ],
   "source": [
    "graf_ace5_grashof()"
   ]
  },
  {
   "cell_type": "code",
   "execution_count": 218,
   "metadata": {},
   "outputs": [],
   "source": [
    "def graf_ace6_grashof():\n",
    "    if grashof:\n",
    "\n",
    "        plt.figure(dpi=100)\n",
    "        plt.plot(theta2_list,A_B_tan_list)\n",
    "        plt.title('Aceleração tangencial do elo de saída pelo deslocamento angular do elo motor')\n",
    "        plt.xlabel(r'$\\theta_2(t)$')\n",
    "        plt.ylabel(r'$A^{t}_B(t)$')\n",
    "        plt.grid(False)\n",
    "        plt.show()\n",
    "\n",
    "        return plt.show()\n",
    "    else:\n",
    "        pass"
   ]
  },
  {
   "cell_type": "code",
   "execution_count": 219,
   "metadata": {},
   "outputs": [
    {
     "data": {
      "image/png": "[encoded data removed]",
      "text/plain": [
       "<Figure size 640x480 with 1 Axes>"
      ]
     },
     "metadata": {},
     "output_type": "display_data"
    }
   ],
   "source": [
    "graf_ace6_grashof()"
   ]
  },
  {
   "cell_type": "code",
   "execution_count": 220,
   "metadata": {},
   "outputs": [],
   "source": [
    "#Imprimindo o dicionário com os valores utilizados até então:\n",
    "#dic"
   ]
  },
  {
   "cell_type": "code",
   "execution_count": 221,
   "metadata": {},
   "outputs": [],
   "source": [
    "## 3.2 CINÉTICA"
   ]
  },
  {
   "cell_type": "code",
   "execution_count": 222,
   "metadata": {},
   "outputs": [],
   "source": [
    "### 3.3.1 \tSolução Analítica para Análise de Forças"
   ]
  },
  {
   "cell_type": "code",
   "execution_count": 223,
   "metadata": {},
   "outputs": [
    {
     "data": {
      "text/html": [
       "<h3><left>Análise de força</left></h3>"
      ],
      "text/plain": [
       "<IPython.core.display.HTML object>"
      ]
     },
     "metadata": {},
     "output_type": "display_data"
    }
   ],
   "source": [
    "display(HTML('<h3><left>Análise de força</left></h3>'))"
   ]
  },
  {
   "cell_type": "code",
   "execution_count": 224,
   "metadata": {},
   "outputs": [],
   "source": [
    "#img = Image.open('for.jpg')\n",
    "#width = 650\n",
    "#height = 430\n",
    "#img_resized = img.resize((width, height))\n",
    "#img_resized\n",
    "#img_resized.save('img_redimensionada.png')"
   ]
  },
  {
   "cell_type": "code",
   "execution_count": 225,
   "metadata": {},
   "outputs": [],
   "source": [
    "#Definindo as equações do Norton (2010) em forma matricial: "
   ]
  },
  {
   "cell_type": "code",
   "execution_count": 226,
   "metadata": {},
   "outputs": [],
   "source": [
    "#Declarando as variáveis das forças atuantes no sistema:\n",
    "T12,T4,g = symbols('T_12 T_4 g')\n",
    "F12x,F12y,F32x,F32y,F43x,F43y,F14x,F14y = symbols('F_12x F12_y F_32x F_32y F_43x F_43y F_14x F_14y')\n",
    "R12x,R12y,R32x,R32y,R23x,R23y,R43x,R43y,R34x,R34y = symbols('R_12x R_12y R_32x R_32y R_23x R_23y R_43x R_43y R_34x R_34y')\n",
    "R14x,R14y = symbols('R_14x R_14y')"
   ]
  },
  {
   "cell_type": "code",
   "execution_count": 227,
   "metadata": {},
   "outputs": [],
   "source": [
    "R = sy.Matrix([[1,0,1,0,0,0,0,0,0],[0,1,0,1,0,0,0,0,0],[-R12y,R12x,-R32y,R32x,0,0,0,0,1],[0,0,-1,0,1,0,0,0,0],[0,0,0,-1,0,1,0,0,0],\n",
    "               [0,0,R23y,-R23x,-R43y,R43x,0,0,0],[0,0,0,0,-1,0,1,0,0],[0,0,0,0,0,-1,0,1,0],[0,0,0,0,R34y,-R34x,-R14y,R14x,0]])\n",
    "#R"
   ]
  },
  {
   "cell_type": "code",
   "execution_count": 228,
   "metadata": {},
   "outputs": [],
   "source": [
    "F = sy.Matrix([F12x,F12y,F32x,F32y,F43x,F43y,F14x,F14y,T12])\n",
    "#F"
   ]
  },
  {
   "cell_type": "code",
   "execution_count": 229,
   "metadata": {},
   "outputs": [],
   "source": [
    "#F_P -> F_BA (elo acoplador): Norton (2010)"
   ]
  },
  {
   "cell_type": "code",
   "execution_count": 230,
   "metadata": {},
   "outputs": [],
   "source": [
    "m2,aG2x,aG2y,IG2,m3,aG3x,FBAx,aG3y,FBAy = symbols('m_2 a_G2x a_G2y I_G2 m_3 a_G3x F_BAx a_G3y F_BAy')\n",
    "IG3,RBAx,RBAy,m4,aG4x,aG4y,IG4,T4 = symbols('I_G3 R_BAx R_BAy m_4 a_G4x a_G4y I_G4 T_4')"
   ]
  },
  {
   "cell_type": "code",
   "execution_count": 231,
   "metadata": {},
   "outputs": [],
   "source": [
    "Det = sy.Matrix([m2*aG2x,m2*aG2y,IG2*alpha2,m3*aG3x-FBAx,m3*aG3y-FBAy,IG3*alpha3-RBAx*FBAy+RBAy*FBAx,m4*aG4x,m4*aG4y,IG4*alpha4-T4])\n",
    "#Det"
   ]
  },
  {
   "cell_type": "code",
   "execution_count": 232,
   "metadata": {},
   "outputs": [],
   "source": [
    "#Sympy permite imprimir os resultados"
   ]
  },
  {
   "cell_type": "code",
   "execution_count": 233,
   "metadata": {},
   "outputs": [],
   "source": [
    "#$R*F=Det$\\\n",
    "#$F=R^{-1}*Det$"
   ]
  },
  {
   "cell_type": "code",
   "execution_count": 234,
   "metadata": {},
   "outputs": [],
   "source": [
    "#sol_F =(R**-1)*Det -> Guardado para declarar posteriormente a entrada de dados, devida alta complexidade de computação\n",
    "#Eq(F,sol_F)"
   ]
  },
  {
   "cell_type": "code",
   "execution_count": 235,
   "metadata": {},
   "outputs": [],
   "source": [
    "#Pedindo ao usuário os dados necessários para computação da matriz:"
   ]
  },
  {
   "cell_type": "code",
   "execution_count": 236,
   "metadata": {},
   "outputs": [
    {
     "data": {
      "text/html": [
       "<h4><left>Inserir os seguintes dados de entrada do mecanismo:</left></h4>"
      ],
      "text/plain": [
       "<IPython.core.display.HTML object>"
      ]
     },
     "metadata": {},
     "output_type": "display_data"
    }
   ],
   "source": [
    "display(HTML('<h4><left>Inserir os seguintes dados de entrada do mecanismo:</left></h4>'))"
   ]
  },
  {
   "cell_type": "code",
   "execution_count": 237,
   "metadata": {},
   "outputs": [],
   "source": [
    "#Declarando as variáveis de posição explícitas na figura acima, bem como os ângulos entre essas variáveis e *****, para posterior \n",
    "#determinação das componentes x e y dessas posições."
   ]
  },
  {
   "cell_type": "code",
   "execution_count": 238,
   "metadata": {},
   "outputs": [
    {
     "name": "stdout",
     "output_type": "stream",
     "text": [
      "Digite as componentes para o elo 2:\n"
     ]
    }
   ],
   "source": [
    "print('Digite as componentes para o elo 2:')"
   ]
  },
  {
   "cell_type": "code",
   "execution_count": 239,
   "metadata": {},
   "outputs": [
    {
     "name": "stdout",
     "output_type": "stream",
     "text": [
      "m₂ [kg] = 0.68\n"
     ]
    }
   ],
   "source": [
    "while True:\n",
    "    try: \n",
    "        dic[m2] = (float(input('m\\u2082 [kg] = ')))\n",
    "        break\n",
    "    except ValueError:\n",
    "        print(\"Oops!  Esse não foi um número válido. Tente novamente...\")"
   ]
  },
  {
   "cell_type": "code",
   "execution_count": 240,
   "metadata": {},
   "outputs": [
    {
     "name": "stdout",
     "output_type": "stream",
     "text": [
      "RCM₂ [mm]: 76.2\n",
      "β₂[°]: 30\n"
     ]
    }
   ],
   "source": [
    "RCM2,beta2 = symbols('R_CM2 beta2')\n",
    "while True:\n",
    "    try: \n",
    "        dic[RCM2] = (float(input('RCM\\u2082 [mm]: ')))\n",
    "        dic[beta2] = sy.rad(float(input('\\u03B2\\u2082[°]: ')))\n",
    "        break\n",
    "    except ValueError:\n",
    "        print(\"Oops!  Esse não foi um número válido. Tente novamente...\") \n",
    "dic[RCM2] = dic[RCM2]*10**-3\n",
    "dic[a] = dic[a]*10**-3 #Conversão de [mm] para [m]\n",
    "R_12x = (-RCM2*cos(theta2+beta2)).subs(dic).evalf()\n",
    "R_12y = (-RCM2*sin(theta2+beta2)).subs(dic).evalf()\n",
    "R_32x = (a*cos(theta2)-RCM2*cos(theta2+beta2)).subs(dic).evalf()\n",
    "R_32y = (a*sin(theta2)-RCM2*sin(theta2+beta2)).subs(dic).evalf()"
   ]
  },
  {
   "cell_type": "code",
   "execution_count": 241,
   "metadata": {},
   "outputs": [
    {
     "name": "stdout",
     "output_type": "stream",
     "text": [
      "IG₂ [kg.m^2] = 0.006\n"
     ]
    }
   ],
   "source": [
    "while True:\n",
    "    try: \n",
    "        dic[IG2] = (float(input('IG\\u2082 [kg.m^2] = ')))\n",
    "        break\n",
    "    except ValueError:\n",
    "        print(\"Oops!  Esse não foi um número válido. Tente novamente...\") "
   ]
  },
  {
   "cell_type": "code",
   "execution_count": null,
   "metadata": {},
   "outputs": [],
   "source": [
    "print('Digite as componentes para aG2:')"
   ]
  },
  {
   "cell_type": "code",
   "execution_count": 242,
   "metadata": {},
   "outputs": [
    {
     "name": "stdout",
     "output_type": "stream",
     "text": [
      "Digite as componentes para aG2:\n",
      "[m/s²]: 47.722\n",
      "[°]: -86.34\n"
     ]
    }
   ],
   "source": [
    "aG2,ang2 = symbols('a_G2 ang_2')\n",
    "while True:\n",
    "    try: \n",
    "        dic[aG2] = (float(input('[m/s\\u00B2]: ')))\n",
    "        dic[ang2] = sy.rad(float(input('[°]: ')))\n",
    "        break\n",
    "    except ValueError:\n",
    "        print(\"Oops!  Esse não foi um número válido. Tente novamente...\") \n",
    "a_G2x = (aG2*cos(ang2)).subs(dic).evalf()\n",
    "a_G2y = (aG2*sin(ang2)).subs(dic).evalf()"
   ]
  },
  {
   "cell_type": "code",
   "execution_count": 243,
   "metadata": {},
   "outputs": [
    {
     "name": "stdout",
     "output_type": "stream",
     "text": [
      "Digite as componentes para o elo 3:\n"
     ]
    }
   ],
   "source": [
    "print('Digite as componentes para o elo 3:')"
   ]
  },
  {
   "cell_type": "code",
   "execution_count": 244,
   "metadata": {},
   "outputs": [
    {
     "name": "stdout",
     "output_type": "stream",
     "text": [
      "m₃ [kg] = 3.493\n"
     ]
    }
   ],
   "source": [
    "while True:\n",
    "    try: \n",
    "        dic[m3] = (float(input('m\\u2083 [kg] = ')))\n",
    "        break\n",
    "    except ValueError:\n",
    "        print(\"Oops!  Esse não foi um número válido. Tente novamente...\")"
   ]
  },
  {
   "cell_type": "code",
   "execution_count": 245,
   "metadata": {},
   "outputs": [
    {
     "name": "stdout",
     "output_type": "stream",
     "text": [
      "RCM₃ [mm]: 228.6\n",
      "β₃[°]: 45\n"
     ]
    }
   ],
   "source": [
    "RCM3,beta3 = symbols('R_CM3 beta3')\n",
    "while True:\n",
    "    try: \n",
    "        dic[RCM3] = (float(input('RCM\\u2083 [mm]: ')))\n",
    "        dic[beta3] = sy.rad(float(input('\\u03B2\\u2083[°]: ')))\n",
    "        break\n",
    "    except ValueError:\n",
    "        print(\"Oops!  Esse não foi um número válido. Tente novamente...\") \n",
    "dic[RCM3] = dic[RCM3]*10**-3 \n",
    "dic[b] = dic[b]*10**-3 #Conversão de [mm] para [m]\n",
    "R_23x = (-RCM3*cos(theta3+beta3)).subs(dic).evalf()\n",
    "R_23y = (-RCM3*sin(theta3+beta3)).subs(dic).evalf()\n",
    "R_43x = (b*cos(theta3)-RCM3*cos(theta3+beta3)).subs(dic).evalf()\n",
    "R_43y = (b*sin(theta3)-RCM3*sin(theta3+beta3)).subs(dic).evalf()"
   ]
  },
  {
   "cell_type": "code",
   "execution_count": 246,
   "metadata": {},
   "outputs": [
    {
     "name": "stdout",
     "output_type": "stream",
     "text": [
      "IG₃ [kg.m^2] = 0.011\n"
     ]
    }
   ],
   "source": [
    "while True:\n",
    "    try: \n",
    "        dic[IG3] = (float(input('IG\\u2083 [kg.m^2] = ')))\n",
    "        break\n",
    "    except ValueError:\n",
    "        print(\"Oops!  Esse não foi um número válido. Tente novamente...\") "
   ]
  },
  {
   "cell_type": "code",
   "execution_count": null,
   "metadata": {},
   "outputs": [],
   "source": [
    "print('Digite as componentes para aG3:')"
   ]
  },
  {
   "cell_type": "code",
   "execution_count": 247,
   "metadata": {},
   "outputs": [
    {
     "name": "stdout",
     "output_type": "stream",
     "text": [
      "Digite as componentes para aG3:\n",
      "[m/s²]: 92.602\n",
      "[°]: 226.51\n"
     ]
    }
   ],
   "source": [
    "aG3,ang3 = symbols('a_G3 ang_3')\n",
    "while True:\n",
    "    try: \n",
    "        dic[aG3] = (float(input('[m/s\\u00B2]: ')))\n",
    "        dic[ang3] = sy.rad(float(input('[°]: ')))\n",
    "        break\n",
    "    except ValueError:\n",
    "        print(\"Oops!  Esse não foi um número válido. Tente novamente...\") \n",
    "a_G3x = (aG3*cos(ang3)).subs(dic).evalf()\n",
    "a_G3y = (aG3*sin(ang3)).subs(dic).evalf()"
   ]
  },
  {
   "cell_type": "code",
   "execution_count": 248,
   "metadata": {},
   "outputs": [
    {
     "name": "stdout",
     "output_type": "stream",
     "text": [
      "Digite as componentes para o elo 4:\n"
     ]
    }
   ],
   "source": [
    "print('Digite as componentes para o elo 4:')"
   ]
  },
  {
   "cell_type": "code",
   "execution_count": 249,
   "metadata": {},
   "outputs": [
    {
     "name": "stdout",
     "output_type": "stream",
     "text": [
      "m₄ [kg] = 2.631\n"
     ]
    }
   ],
   "source": [
    "while True:\n",
    "    try: \n",
    "        dic[m4] = (float(input('m\\u2084 [kg] = ')))\n",
    "        break\n",
    "    except ValueError:\n",
    "        print(\"Oops!  Esse não foi um número válido. Tente novamente...\") "
   ]
  },
  {
   "cell_type": "code",
   "execution_count": 250,
   "metadata": {},
   "outputs": [
    {
     "name": "stdout",
     "output_type": "stream",
     "text": [
      "RCM₄ [mm]: 127\n",
      "β₄[°]: 0\n"
     ]
    }
   ],
   "source": [
    "RCM4,beta4 = symbols('R_CM4 beta4')\n",
    "while True:\n",
    "    try: \n",
    "        dic[RCM4] = (float(input('RCM\\u2084 [mm]: ')))\n",
    "        dic[beta4] = sy.rad(float(input('\\u03B2\\u2084[°]: ')))\n",
    "        break\n",
    "    except ValueError:\n",
    "        print(\"Oops!  Esse não foi um número válido. Tente novamente...\") \n",
    "dic[RCM4] = dic[RCM4]*10**-3 \n",
    "dic[c] = dic[c]*10**-3 #Conversão de [mm] para [m]\n",
    "R_14x = (-RCM4*cos(theta4+beta4)).subs(dic).evalf()\n",
    "R_14y = (-RCM4*sin(theta4+beta4)).subs(dic).evalf()\n",
    "R_34x = (c*cos(theta4)-RCM4*cos(theta4+beta4)).subs(dic).evalf()\n",
    "R_34y = (c*sin(theta4)-RCM4*sin(theta4+beta4)).subs(dic).evalf()"
   ]
  },
  {
   "cell_type": "code",
   "execution_count": 251,
   "metadata": {},
   "outputs": [
    {
     "name": "stdout",
     "output_type": "stream",
     "text": [
      "IG₄ [kg.m^2] = 0.09\n"
     ]
    }
   ],
   "source": [
    "while True:\n",
    "    try: \n",
    "        dic[IG4] = (float(input('IG\\u2084 [kg.m^2] = ')))\n",
    "        break\n",
    "    except ValueError:\n",
    "        print(\"Oops!  Esse não foi um número válido. Tente novamente...\") "
   ]
  },
  {
   "cell_type": "code",
   "execution_count": null,
   "metadata": {},
   "outputs": [],
   "source": [
    "print('Digite as componentes para aG4:')"
   ]
  },
  {
   "cell_type": "code",
   "execution_count": 252,
   "metadata": {},
   "outputs": [
    {
     "name": "stdout",
     "output_type": "stream",
     "text": [
      "Digite as componentes para aG4:\n",
      "[m/s²]: 35.987\n",
      "[°]: 207.24\n"
     ]
    }
   ],
   "source": [
    "aG4,ang4 = symbols('a_G4 ang_4')\n",
    "while True:\n",
    "    try: \n",
    "        dic[aG4] = (float(input('[m/s\\u00B2]: ')))\n",
    "        dic[ang4] = sy.rad(float(input('[°]: ')))\n",
    "        break\n",
    "    except ValueError:\n",
    "        print(\"Oops!  Esse não foi um número válido. Tente novamente...\") \n",
    "a_G4x = (aG4*cos(ang4)).subs(dic).evalf()\n",
    "a_G4y = (aG4*sin(ang4)).subs(dic).evalf()"
   ]
  },
  {
   "cell_type": "code",
   "execution_count": 271,
   "metadata": {},
   "outputs": [
    {
     "name": "stdout",
     "output_type": "stream",
     "text": [
      "T₄ [Nm] = 13.558\n"
     ]
    }
   ],
   "source": [
    "while True:\n",
    "    try: \n",
    "        dic[T4] = (float(input('T\\u2084 [Nm] = ')))\n",
    "        break\n",
    "    except ValueError:\n",
    "        print(\"Oops!  Esse não foi um número válido. Tente novamente...\") "
   ]
  },
  {
   "cell_type": "code",
   "execution_count": 254,
   "metadata": {},
   "outputs": [
    {
     "name": "stdout",
     "output_type": "stream",
     "text": [
      "Digite as componentes para RP:\n"
     ]
    }
   ],
   "source": [
    "print('Digite as componentes para RP:')"
   ]
  },
  {
   "cell_type": "code",
   "execution_count": 256,
   "metadata": {},
   "outputs": [
    {
     "name": "stdout",
     "output_type": "stream",
     "text": [
      "[N]: 355.84\n",
      "[°]: 330\n"
     ]
    }
   ],
   "source": [
    "FP,betaFP = symbols('F_P beta_{FP}')\n",
    "while True:\n",
    "    try: \n",
    "        dic[FP] = (float(input('[N]: ')))\n",
    "        dic[betaFP] = sy.rad(float(input('[°]: ')))\n",
    "        break\n",
    "    except ValueError:\n",
    "        print(\"Oops!  Esse não foi um número válido. Tente novamente...\") \n",
    "FPx = (FP*cos(betaFP)).subs(dic).evalf()\n",
    "FPy = (FP*sin(betaFP)).subs(dic).evalf()"
   ]
  },
  {
   "cell_type": "code",
   "execution_count": 255,
   "metadata": {},
   "outputs": [
    {
     "name": "stdout",
     "output_type": "stream",
     "text": [
      "RP [mm]: 76.2\n",
      "βP[°]: 100\n"
     ]
    }
   ],
   "source": [
    "RP,betaP = symbols('R_P betaP')\n",
    "while True:\n",
    "    try: \n",
    "        dic[RP] = (float(input('RP [mm]: ')))\n",
    "        dic[betaP] = sy.rad(float(input('\\u03B2P[°]: ')))\n",
    "        break\n",
    "    except ValueError:\n",
    "        print(\"Oops!  Esse não foi um número válido. Tente novamente...\") \n",
    "dic[RP] = dic[RP]*10**-3\n",
    "RPx = (RP*cos(theta3+betaP)).subs(dic).evalf()\n",
    "RPy = (RP*sin(theta3+betaP)).subs(dic).evalf()"
   ]
  },
  {
   "cell_type": "code",
   "execution_count": 257,
   "metadata": {},
   "outputs": [],
   "source": [
    "#Foram definidas as variáveis de aceleração dos centros de massa dos elos 2, 3 e 4 no sistema de coordenadas global:\n",
    "#Obtém-se do usuário as constantes das coordenadas polares das acelerações dos centros de massa, $a_{G2}$, $a_{G2}$ e $a_{G3}$, \n",
    "#para posteriormente serem convertidas em coordenadas cartesianas, obtendo então as componentes $x$ e $y$ das acelerações dos centros de massa dos elos 2, 3 e 4."
   ]
  },
  {
   "cell_type": "code",
   "execution_count": 258,
   "metadata": {},
   "outputs": [],
   "source": [
    "#Atribuindo os valores calculados pelas variáveis declaradas às variáveis simbólicas criadas no início dessa análise:"
   ]
  },
  {
   "cell_type": "code",
   "execution_count": 272,
   "metadata": {},
   "outputs": [],
   "source": [
    "dic[R12x] = R_12x\n",
    "dic[R12y] = R_12y\n",
    "dic[R32x] = R_32x\n",
    "dic[R32y] = R_32y\n",
    "dic[R23x] = R_23x\n",
    "dic[R23y] = R_23y\n",
    "dic[R43x] = R_43x\n",
    "dic[R43y] = R_43y\n",
    "dic[R34x] = R_34x\n",
    "dic[R34y] = R_34y\n",
    "dic[R14x] = R_14x\n",
    "dic[R14y] = R_14y\n",
    "dic[RBAx] = RPx\n",
    "dic[RBAy] = RPy\n",
    "\n",
    "#Acelerações dos centros de massa dos elos no sistema de coordenadas global:\n",
    "dic[aG2x] = a_G2x\n",
    "dic[aG2y] = a_G2y\n",
    "dic[aG3x] = a_G3x\n",
    "dic[aG3y] = a_G3y\n",
    "dic[aG4x] = a_G4x\n",
    "dic[aG4y] = a_G4y\n",
    "\n",
    "#dic[alpha2] = #Resgatado da análise anterior\n",
    "#dic[alpha3] = #Resgatado da análise anterior\n",
    "#dic[alpha4] = #Resgatado da análise anterior\n",
    "\n",
    "dic[FBAx] = FPx\n",
    "dic[FBAy] = FPy"
   ]
  },
  {
   "cell_type": "code",
   "execution_count": 260,
   "metadata": {},
   "outputs": [],
   "source": [
    "#dic"
   ]
  },
  {
   "cell_type": "code",
   "execution_count": 261,
   "metadata": {},
   "outputs": [],
   "source": [
    "#Para observar as matrizes com os valores substrituídos separadamente:"
   ]
  },
  {
   "cell_type": "code",
   "execution_count": 262,
   "metadata": {
    "scrolled": true
   },
   "outputs": [],
   "source": [
    "#R.subs(dic).evalf()"
   ]
  },
  {
   "cell_type": "code",
   "execution_count": 263,
   "metadata": {
    "scrolled": true
   },
   "outputs": [],
   "source": [
    "#Det.subs(dic).evalf()"
   ]
  },
  {
   "cell_type": "code",
   "execution_count": 264,
   "metadata": {},
   "outputs": [],
   "source": [
    "#A matriz F será então equivalente aos seguintes valores:"
   ]
  },
  {
   "cell_type": "code",
   "execution_count": 265,
   "metadata": {},
   "outputs": [],
   "source": [
    "#Matriz com unidades de medida:\n",
    "#Nm = symbols('Nm')\n",
    "#Unid = Matrix([N,N,N,N,N,N,N,N,Nm])\n",
    "#Unid"
   ]
  },
  {
   "cell_type": "code",
   "execution_count": 266,
   "metadata": {},
   "outputs": [
    {
     "data": {
      "text/html": [
       "<h4><left>Resultados da análise:</left></h4>"
      ],
      "text/plain": [
       "<IPython.core.display.HTML object>"
      ]
     },
     "metadata": {},
     "output_type": "display_data"
    }
   ],
   "source": [
    "display(HTML('<h4><left>Resultados da análise:</left></h4>'))"
   ]
  },
  {
   "cell_type": "code",
   "execution_count": 274,
   "metadata": {},
   "outputs": [],
   "source": [
    "sol_F =(R**-1)*Det\n",
    "sol_F = sol_F.subs(dic).evalf()\n",
    "#Eq(F,sol_F)"
   ]
  },
  {
   "cell_type": "code",
   "execution_count": 276,
   "metadata": {},
   "outputs": [],
   "source": [
    "N,Nm = symbols('N Nm')"
   ]
  },
  {
   "cell_type": "code",
   "execution_count": 277,
   "metadata": {},
   "outputs": [
    {
     "data": {
      "text/latex": [
       "$\\displaystyle F_{12x} = - 535.08 N$"
      ],
      "text/plain": [
       "Eq(F_12x, -535.08*N)"
      ]
     },
     "execution_count": 277,
     "metadata": {},
     "output_type": "execute_result"
    }
   ],
   "source": [
    "Eq(F[0],round(sol_F[0],2)*N)"
   ]
  },
  {
   "cell_type": "code",
   "execution_count": 278,
   "metadata": {},
   "outputs": [
    {
     "data": {
      "text/latex": [
       "$\\displaystyle F_{12 y} = - 428.72 N$"
      ],
      "text/plain": [
       "Eq(F12_y, -428.72*N)"
      ]
     },
     "execution_count": 278,
     "metadata": {},
     "output_type": "execute_result"
    }
   ],
   "source": [
    "Eq(F[1],round(sol_F[1],2)*N)"
   ]
  },
  {
   "cell_type": "code",
   "execution_count": 279,
   "metadata": {},
   "outputs": [
    {
     "data": {
      "text/latex": [
       "$\\displaystyle F_{32x} = 537.15 N$"
      ],
      "text/plain": [
       "Eq(F_32x, 537.15*N)"
      ]
     },
     "execution_count": 279,
     "metadata": {},
     "output_type": "execute_result"
    }
   ],
   "source": [
    "Eq(F[2],round(sol_F[2],2)*N)"
   ]
  },
  {
   "cell_type": "code",
   "execution_count": 280,
   "metadata": {},
   "outputs": [
    {
     "data": {
      "text/latex": [
       "$\\displaystyle F_{32y} = 396.34 N$"
      ],
      "text/plain": [
       "Eq(F_32y, 396.34*N)"
      ]
     },
     "execution_count": 280,
     "metadata": {},
     "output_type": "execute_result"
    }
   ],
   "source": [
    "Eq(F[3],round(sol_F[3],2)*N)"
   ]
  },
  {
   "cell_type": "code",
   "execution_count": 281,
   "metadata": {},
   "outputs": [
    {
     "data": {
      "text/latex": [
       "$\\displaystyle F_{43x} = 6.37 N$"
      ],
      "text/plain": [
       "Eq(F_43x, 6.37*N)"
      ]
     },
     "execution_count": 281,
     "metadata": {},
     "output_type": "execute_result"
    }
   ],
   "source": [
    "Eq(F[4],round(sol_F[4],2)*N)"
   ]
  },
  {
   "cell_type": "code",
   "execution_count": 282,
   "metadata": {},
   "outputs": [
    {
     "data": {
      "text/latex": [
       "$\\displaystyle F_{43y} = 339.59 N$"
      ],
      "text/plain": [
       "Eq(F_43y, 339.59*N)"
      ]
     },
     "execution_count": 282,
     "metadata": {},
     "output_type": "execute_result"
    }
   ],
   "source": [
    "Eq(F[5],round(sol_F[5],2)*N)"
   ]
  },
  {
   "cell_type": "code",
   "execution_count": 283,
   "metadata": {},
   "outputs": [
    {
     "data": {
      "text/latex": [
       "$\\displaystyle F_{14x} = - 77.81 N$"
      ],
      "text/plain": [
       "Eq(F_14x, -77.81*N)"
      ]
     },
     "execution_count": 283,
     "metadata": {},
     "output_type": "execute_result"
    }
   ],
   "source": [
    "Eq(F[6],round(sol_F[6],2)*N)"
   ]
  },
  {
   "cell_type": "code",
   "execution_count": 284,
   "metadata": {},
   "outputs": [
    {
     "data": {
      "text/latex": [
       "$\\displaystyle F_{14y} = 296.25 N$"
      ],
      "text/plain": [
       "Eq(F_14y, 296.25*N)"
      ]
     },
     "execution_count": 284,
     "metadata": {},
     "output_type": "execute_result"
    }
   ],
   "source": [
    "Eq(F[7],round(sol_F[7],2)*N)"
   ]
  },
  {
   "cell_type": "code",
   "execution_count": 285,
   "metadata": {},
   "outputs": [
    {
     "data": {
      "text/latex": [
       "$\\displaystyle T_{12} = 33.51 N$"
      ],
      "text/plain": [
       "Eq(T_12, 33.51*N)"
      ]
     },
     "execution_count": 285,
     "metadata": {},
     "output_type": "execute_result"
    }
   ],
   "source": [
    "Eq(F[8],round(sol_F[8],2)*N)"
   ]
  },
  {
   "cell_type": "code",
   "execution_count": null,
   "metadata": {},
   "outputs": [],
   "source": [
    "#Potência = Torque * Velocidade angular"
   ]
  },
  {
   "cell_type": "code",
   "execution_count": 286,
   "metadata": {},
   "outputs": [],
   "source": [
    "T12 = sol_F[8] #Atribui a variável T12 o resultado tido na matriz F"
   ]
  },
  {
   "cell_type": "code",
   "execution_count": 287,
   "metadata": {},
   "outputs": [
    {
     "name": "stdout",
     "output_type": "stream",
     "text": [
      "Potência de acionamento do mecanismo:\n"
     ]
    }
   ],
   "source": [
    "print('Potência de acionamento do mecanismo:')"
   ]
  },
  {
   "cell_type": "code",
   "execution_count": 302,
   "metadata": {},
   "outputs": [
    {
     "data": {
      "text/latex": [
       "$\\displaystyle P_{aci} = 837.83 kW$"
      ],
      "text/plain": [
       "Eq(P_{aci}, 837.83*kW)"
      ]
     },
     "execution_count": 302,
     "metadata": {},
     "output_type": "execute_result"
    }
   ],
   "source": [
    "Pacio,kW = symbols('P_{aci} kW')\n",
    "P = (T12*omega2t)\n",
    "Eq(Pacio,round(P,3)*kW)"
   ]
  },
  {
   "cell_type": "code",
   "execution_count": null,
   "metadata": {},
   "outputs": [],
   "source": [
    "#theta2_list = np.linspace(0,2*np.pi,360)\n",
    "#T12_list = []\n",
    "#for i in range(0,len(theta2_list)):\n",
    "#    T12_list.append(T12.subs(theta2,theta2_list[i]))"
   ]
  },
  {
   "cell_type": "code",
   "execution_count": 296,
   "metadata": {},
   "outputs": [],
   "source": [
    "T12_list = []\n",
    "for i in range(0,360):\n",
    "    T12_list.append(T12.subs(dic).subs(theta2,theta2_list[i]))"
   ]
  },
  {
   "cell_type": "code",
   "execution_count": 297,
   "metadata": {},
   "outputs": [],
   "source": [
    "def graf_torque():\n",
    "    if grashof:\n",
    "\n",
    "        plt.figure(dpi=100)\n",
    "        plt.plot(theta2_list,T12_list)\n",
    "        plt.title('Toque de acionamento em função do deslocamento angular do elo motor')\n",
    "        plt.xlabel(r'$\\theta_2(t)$')\n",
    "        plt.ylabel(r'$T_{12}$')\n",
    "        plt.grid(False)\n",
    "\n",
    "        return plt.show()\n",
    "    else:\n",
    "        pass"
   ]
  },
  {
   "cell_type": "code",
   "execution_count": 298,
   "metadata": {},
   "outputs": [
    {
     "data": {
      "image/png": "[encoded data removed]",
      "text/plain": [
       "<Figure size 640x480 with 1 Axes>"
      ]
     },
     "metadata": {},
     "output_type": "display_data"
    }
   ],
   "source": [
    "graf_torque()"
   ]
  }
 ],
 "metadata": {
  "kernelspec": {
   "display_name": "Python 3 (ipykernel)",
   "language": "python",
   "name": "python3"
  },
  "language_info": {
   "codemirror_mode": {
    "name": "ipython",
    "version": 3
   },
   "file_extension": ".py",
   "mimetype": "text/x-python",
   "name": "python",
   "nbconvert_exporter": "python",
   "pygments_lexer": "ipython3",
   "version": "3.9.13"
  },
  "widgets": {
   "application/vnd.jupyter.widget-state+json": {
    "state": {
     "057810a24e494ff689587e485c364113": {
      "model_module": "@jupyter-widgets/controls",
      "model_module_version": "1.5.0",
      "model_name": "SliderStyleModel",
      "state": {
       "description_width": ""
      }
     },
     "0b2b66f3fe1041be85c44273ae9b4199": {
      "model_module": "@jupyter-widgets/controls",
      "model_module_version": "1.5.0",
      "model_name": "IntSliderModel",
      "state": {
       "description": "cn",
       "layout": "IPY_MODEL_33af4641e6584dbc802803ce3c88ac81",
       "max": 20,
       "min": 1,
       "style": "IPY_MODEL_bf0992874479438c862928a4364e2239",
       "value": 10
      }
     },
     "124feb46515f493aaf303d9c5eb78ca9": {
      "model_module": "@jupyter-widgets/base",
      "model_module_version": "1.2.0",
      "model_name": "LayoutModel",
      "state": {}
     },
     "17d47d3c504d464bbdcbf8c4520b467a": {
      "model_module": "@jupyter-widgets/output",
      "model_module_version": "1.0.0",
      "model_name": "OutputModel",
      "state": {
       "layout": "IPY_MODEL_64770c8c29a340a7839354c23d726fe0",
       "outputs": [
        {
         "name": "stdout",
         "output_type": "stream",
         "text": "Não-Grashof\n"
        },
        {
         "data": {
          "image/png": "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\n",
          "text/plain": "<Figure size 750x750 with 1 Axes>"
         },
         "metadata": {
          "needs_background": "light"
         },
         "output_type": "display_data"
        }
       ]
      }
     },
     "1910a953ed3b4d6e8bce920ee7b0fb98": {
      "model_module": "@jupyter-widgets/base",
      "model_module_version": "1.2.0",
      "model_name": "LayoutModel",
      "state": {}
     },
     "1a9d1b441469480ca81c917f85276ec9": {
      "model_module": "@jupyter-widgets/base",
      "model_module_version": "1.2.0",
      "model_name": "LayoutModel",
      "state": {}
     },
     "1e7ba5f98b3f4c03ae5e181715520e99": {
      "model_module": "@jupyter-widgets/base",
      "model_module_version": "1.2.0",
      "model_name": "LayoutModel",
      "state": {}
     },
     "2138628862484b16979c45940d5ad8fc": {
      "model_module": "@jupyter-widgets/base",
      "model_module_version": "1.2.0",
      "model_name": "LayoutModel",
      "state": {}
     },
     "21d9c60f5f1b482ca0e0c4f196874cae": {
      "model_module": "@jupyter-widgets/controls",
      "model_module_version": "1.5.0",
      "model_name": "IntSliderModel",
      "state": {
       "description": "an",
       "layout": "IPY_MODEL_c6342a220cd14dc99369ed3afb27c884",
       "max": 20,
       "min": 1,
       "style": "IPY_MODEL_f12793bc35c9412ba6966ea883e46a4c",
       "value": 9
      }
     },
     "2a77e0af97d543cd91fb5c7253394cd9": {
      "model_module": "@jupyter-widgets/output",
      "model_module_version": "1.0.0",
      "model_name": "OutputModel",
      "state": {
       "layout": "IPY_MODEL_d78bede0c0e143669f38ff60beb58789",
       "outputs": [
        {
         "name": "stdout",
         "output_type": "stream",
         "text": "Grashof\n"
        },
        {
         "data": {
          "image/png": "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\n",
          "text/plain": "<Figure size 750x750 with 1 Axes>"
         },
         "metadata": {
          "needs_background": "light"
         },
         "output_type": "display_data"
        }
       ]
      }
     },
     "3232375ee9b9457c98a2c678c35e2c2f": {
      "model_module": "@jupyter-widgets/controls",
      "model_module_version": "1.5.0",
      "model_name": "VBoxModel",
      "state": {
       "_dom_classes": [
        "widget-interact"
       ],
       "children": [
        "IPY_MODEL_bab885a127ad4d48954dca2978ec50b2",
        "IPY_MODEL_93c05e85d0854e0d8f974eb777415ccc",
        "IPY_MODEL_0b2b66f3fe1041be85c44273ae9b4199",
        "IPY_MODEL_fb8425718cd54380a7aa3f99fb96bc09",
        "IPY_MODEL_96799371bc0d405cb1e43f0545f3069b",
        "IPY_MODEL_17d47d3c504d464bbdcbf8c4520b467a"
       ],
       "layout": "IPY_MODEL_1e7ba5f98b3f4c03ae5e181715520e99"
      }
     },
     "33af4641e6584dbc802803ce3c88ac81": {
      "model_module": "@jupyter-widgets/base",
      "model_module_version": "1.2.0",
      "model_name": "LayoutModel",
      "state": {}
     },
     "3ee5350627ae4de186c9fd338a9c77f6": {
      "model_module": "@jupyter-widgets/controls",
      "model_module_version": "1.5.0",
      "model_name": "SliderStyleModel",
      "state": {
       "description_width": ""
      }
     },
     "40a0e22e593c490fbafb939b38a87615": {
      "model_module": "@jupyter-widgets/controls",
      "model_module_version": "1.5.0",
      "model_name": "IntSliderModel",
      "state": {
       "description": "cn",
       "layout": "IPY_MODEL_1a9d1b441469480ca81c917f85276ec9",
       "max": 20,
       "min": 1,
       "style": "IPY_MODEL_64c1826bef0c4c79bd636d372dbf5014",
       "value": 11
      }
     },
     "42adb2838a6644f8a6d51dcc243a0a88": {
      "model_module": "@jupyter-widgets/controls",
      "model_module_version": "1.5.0",
      "model_name": "SliderStyleModel",
      "state": {
       "description_width": ""
      }
     },
     "47247fce72bb4d69a69126d42b68d344": {
      "model_module": "@jupyter-widgets/controls",
      "model_module_version": "1.5.0",
      "model_name": "FloatSliderModel",
      "state": {
       "description": "thetan",
       "layout": "IPY_MODEL_b619ba5cd68c4930b0b50d68a240c503",
       "max": 12.566370614359172,
       "step": 0.1,
       "style": "IPY_MODEL_8aabfa5087e14ec19f65d05b01c8c64c",
       "value": 5.2
      }
     },
     "4903cacad1284ccd8f00a8829d602996": {
      "model_module": "@jupyter-widgets/controls",
      "model_module_version": "1.5.0",
      "model_name": "SliderStyleModel",
      "state": {
       "description_width": ""
      }
     },
     "4c7625a0c03e485f8735698f4b456241": {
      "model_module": "@jupyter-widgets/controls",
      "model_module_version": "1.5.0",
      "model_name": "SliderStyleModel",
      "state": {
       "description_width": ""
      }
     },
     "50e8afce2769454281522bf7004a6e39": {
      "model_module": "@jupyter-widgets/base",
      "model_module_version": "1.2.0",
      "model_name": "LayoutModel",
      "state": {}
     },
     "57c54f8e0de14d10846284838bfa73fc": {
      "model_module": "@jupyter-widgets/base",
      "model_module_version": "1.2.0",
      "model_name": "LayoutModel",
      "state": {}
     },
     "5a620728ac4e421b9879948c8fc5602a": {
      "model_module": "@jupyter-widgets/controls",
      "model_module_version": "1.5.0",
      "model_name": "SliderStyleModel",
      "state": {
       "description_width": ""
      }
     },
     "61d3d868b1924492b0f45511787b55b9": {
      "model_module": "@jupyter-widgets/controls",
      "model_module_version": "1.5.0",
      "model_name": "VBoxModel",
      "state": {
       "_dom_classes": [
        "widget-interact"
       ],
       "children": [
        "IPY_MODEL_fb5b704e252341dc8411b6ceb665b9b3",
        "IPY_MODEL_b574e731d8274857b2ace108f6bde762",
        "IPY_MODEL_9d74f5a036014b7299fe839df75f4c2f",
        "IPY_MODEL_7d2bb5bcee784471850be880d83fd6d5",
        "IPY_MODEL_d62b8c4932184b77b61b59ee0025d643",
        "IPY_MODEL_7977b67d494640439fd7f9291040f41b"
       ],
       "layout": "IPY_MODEL_b8bf732420414d158dee86ce5499d08e"
      }
     },
     "64770c8c29a340a7839354c23d726fe0": {
      "model_module": "@jupyter-widgets/base",
      "model_module_version": "1.2.0",
      "model_name": "LayoutModel",
      "state": {}
     },
     "64c1826bef0c4c79bd636d372dbf5014": {
      "model_module": "@jupyter-widgets/controls",
      "model_module_version": "1.5.0",
      "model_name": "SliderStyleModel",
      "state": {
       "description_width": ""
      }
     },
     "64d3b3099cab4d9d9f7527b404461918": {
      "model_module": "@jupyter-widgets/base",
      "model_module_version": "1.2.0",
      "model_name": "LayoutModel",
      "state": {}
     },
     "65d638082d0a4da2b5b0291a9be34dd4": {
      "model_module": "@jupyter-widgets/base",
      "model_module_version": "1.2.0",
      "model_name": "LayoutModel",
      "state": {}
     },
     "6b05cd0a94da4f28b63cdb4dd1c6cb42": {
      "model_module": "@jupyter-widgets/base",
      "model_module_version": "1.2.0",
      "model_name": "LayoutModel",
      "state": {}
     },
     "6fd0d4c39d3f4809b710c910f279c89a": {
      "model_module": "@jupyter-widgets/controls",
      "model_module_version": "1.5.0",
      "model_name": "SliderStyleModel",
      "state": {
       "description_width": ""
      }
     },
     "722e088fadeb4142847e63a4ccfc52ff": {
      "model_module": "@jupyter-widgets/controls",
      "model_module_version": "1.5.0",
      "model_name": "IntSliderModel",
      "state": {
       "description": "bn",
       "layout": "IPY_MODEL_9da78f405f7c4689885c7bdf45358c89",
       "max": 20,
       "min": 1,
       "style": "IPY_MODEL_a035647897094c208429c06cdc7ba79f",
       "value": 12
      }
     },
     "733bd66bcd6b4f4a881e17e8b2042096": {
      "model_module": "@jupyter-widgets/base",
      "model_module_version": "1.2.0",
      "model_name": "LayoutModel",
      "state": {}
     },
     "77fa36fd3cf347f19d803edd36c871c4": {
      "model_module": "@jupyter-widgets/base",
      "model_module_version": "1.2.0",
      "model_name": "LayoutModel",
      "state": {}
     },
     "792762cfe19a4f0aae64d011efb583bd": {
      "model_module": "@jupyter-widgets/controls",
      "model_module_version": "1.5.0",
      "model_name": "IntSliderModel",
      "state": {
       "description": "dn",
       "layout": "IPY_MODEL_9884640535fc41b487093d0337f06c10",
       "max": 20,
       "min": 1,
       "style": "IPY_MODEL_5a620728ac4e421b9879948c8fc5602a",
       "value": 11
      }
     },
     "7977b67d494640439fd7f9291040f41b": {
      "model_module": "@jupyter-widgets/output",
      "model_module_version": "1.0.0",
      "model_name": "OutputModel",
      "state": {
       "layout": "IPY_MODEL_1910a953ed3b4d6e8bce920ee7b0fb98",
       "outputs": [
        {
         "name": "stdout",
         "output_type": "stream",
         "text": "Grashof\n"
        },
        {
         "data": {
          "image/png": "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\n",
          "text/plain": "<Figure size 750x750 with 1 Axes>"
         },
         "metadata": {
          "needs_background": "light"
         },
         "output_type": "display_data"
        }
       ]
      }
     },
     "7d2bb5bcee784471850be880d83fd6d5": {
      "model_module": "@jupyter-widgets/controls",
      "model_module_version": "1.5.0",
      "model_name": "IntSliderModel",
      "state": {
       "description": "dn",
       "layout": "IPY_MODEL_a36eccd4923f4bb8b05faf3874a4166c",
       "max": 20,
       "min": 1,
       "style": "IPY_MODEL_9e511a9e6c884f7ba8dd5636047654b1",
       "value": 10
      }
     },
     "7f9b647107ab4b6f86e8be691e6f9e2c": {
      "model_module": "@jupyter-widgets/controls",
      "model_module_version": "1.5.0",
      "model_name": "SliderStyleModel",
      "state": {
       "description_width": ""
      }
     },
     "8237e311b7324e63b890a1588b2290c4": {
      "model_module": "@jupyter-widgets/controls",
      "model_module_version": "1.5.0",
      "model_name": "IntSliderModel",
      "state": {
       "description": "bn",
       "layout": "IPY_MODEL_dc7d000bb40345189ad9356fd3cfa639",
       "max": 20,
       "min": 1,
       "style": "IPY_MODEL_e34998f1410e4a80bb6fae5a2b981451",
       "value": 10
      }
     },
     "8419f1b84aee4ce4a6b687e13d09ef4c": {
      "model_module": "@jupyter-widgets/controls",
      "model_module_version": "1.5.0",
      "model_name": "IntSliderModel",
      "state": {
       "description": "cn",
       "layout": "IPY_MODEL_50e8afce2769454281522bf7004a6e39",
       "max": 20,
       "min": 1,
       "style": "IPY_MODEL_fd22a6cb01ea4115a24a41352bdd4376",
       "value": 10
      }
     },
     "85a988b312d14fb8be699d57e8e27c10": {
      "model_module": "@jupyter-widgets/base",
      "model_module_version": "1.2.0",
      "model_name": "LayoutModel",
      "state": {}
     },
     "8aabfa5087e14ec19f65d05b01c8c64c": {
      "model_module": "@jupyter-widgets/controls",
      "model_module_version": "1.5.0",
      "model_name": "SliderStyleModel",
      "state": {
       "description_width": ""
      }
     },
     "8b06f4590b8946b8a0ba2a8631b102b6": {
      "model_module": "@jupyter-widgets/controls",
      "model_module_version": "1.5.0",
      "model_name": "FloatSliderModel",
      "state": {
       "description": "thetan",
       "layout": "IPY_MODEL_b08938e4186947dbb0f8bee739a19997",
       "max": 12.566370614359172,
       "step": 0.1,
       "style": "IPY_MODEL_4903cacad1284ccd8f00a8829d602996",
       "value": 7.6
      }
     },
     "8bdbb76818bb4b91952397bc76975617": {
      "model_module": "@jupyter-widgets/controls",
      "model_module_version": "1.5.0",
      "model_name": "SliderStyleModel",
      "state": {
       "description_width": ""
      }
     },
     "8fdf4379c7954330838669cbaf8370a7": {
      "model_module": "@jupyter-widgets/controls",
      "model_module_version": "1.5.0",
      "model_name": "VBoxModel",
      "state": {
       "_dom_classes": [
        "widget-interact"
       ],
       "children": [
        "IPY_MODEL_a5fa3ec863764be6b14b896195bcaead",
        "IPY_MODEL_8237e311b7324e63b890a1588b2290c4",
        "IPY_MODEL_8419f1b84aee4ce4a6b687e13d09ef4c",
        "IPY_MODEL_e3032790379e499ba22bc7e6a116a957",
        "IPY_MODEL_8b06f4590b8946b8a0ba2a8631b102b6",
        "IPY_MODEL_eb8ed039d0e5485b97a7f61d1b9d00fe"
       ],
       "layout": "IPY_MODEL_ef3c5d4186034665b8916b322a4e4a8c"
      }
     },
     "919420f4784a41a3be95572623b50bd6": {
      "model_module": "@jupyter-widgets/output",
      "model_module_version": "1.0.0",
      "model_name": "OutputModel",
      "state": {
       "layout": "IPY_MODEL_65d638082d0a4da2b5b0291a9be34dd4",
       "outputs": [
        {
         "name": "stdout",
         "output_type": "stream",
         "text": "Não-Grashof\n"
        },
        {
         "data": {
          "image/png": "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\n",
          "text/plain": "<Figure size 750x750 with 1 Axes>"
         },
         "metadata": {
          "needs_background": "light"
         },
         "output_type": "display_data"
        }
       ]
      }
     },
     "91e43a24050f412995b86cddf39ec70e": {
      "model_module": "@jupyter-widgets/controls",
      "model_module_version": "1.5.0",
      "model_name": "SliderStyleModel",
      "state": {
       "description_width": ""
      }
     },
     "93c05e85d0854e0d8f974eb777415ccc": {
      "model_module": "@jupyter-widgets/controls",
      "model_module_version": "1.5.0",
      "model_name": "IntSliderModel",
      "state": {
       "description": "bn",
       "layout": "IPY_MODEL_64d3b3099cab4d9d9f7527b404461918",
       "max": 20,
       "min": 1,
       "style": "IPY_MODEL_7f9b647107ab4b6f86e8be691e6f9e2c",
       "value": 10
      }
     },
     "96799371bc0d405cb1e43f0545f3069b": {
      "model_module": "@jupyter-widgets/controls",
      "model_module_version": "1.5.0",
      "model_name": "FloatSliderModel",
      "state": {
       "description": "thetan",
       "layout": "IPY_MODEL_124feb46515f493aaf303d9c5eb78ca9",
       "max": 12.566370614359172,
       "step": 0.1,
       "style": "IPY_MODEL_057810a24e494ff689587e485c364113",
       "value": 6.283185307179586
      }
     },
     "97b4e6a424b646e588f7163430650eea": {
      "model_module": "@jupyter-widgets/base",
      "model_module_version": "1.2.0",
      "model_name": "LayoutModel",
      "state": {}
     },
     "9884640535fc41b487093d0337f06c10": {
      "model_module": "@jupyter-widgets/base",
      "model_module_version": "1.2.0",
      "model_name": "LayoutModel",
      "state": {}
     },
     "9d74f5a036014b7299fe839df75f4c2f": {
      "model_module": "@jupyter-widgets/controls",
      "model_module_version": "1.5.0",
      "model_name": "IntSliderModel",
      "state": {
       "description": "cn",
       "layout": "IPY_MODEL_d62c48c392d84befa8c43bd73b9defc8",
       "max": 20,
       "min": 1,
       "style": "IPY_MODEL_f584970036d64074970e92612ae90f6a",
       "value": 10
      }
     },
     "9da78f405f7c4689885c7bdf45358c89": {
      "model_module": "@jupyter-widgets/base",
      "model_module_version": "1.2.0",
      "model_name": "LayoutModel",
      "state": {}
     },
     "9e511a9e6c884f7ba8dd5636047654b1": {
      "model_module": "@jupyter-widgets/controls",
      "model_module_version": "1.5.0",
      "model_name": "SliderStyleModel",
      "state": {
       "description_width": ""
      }
     },
     "a035647897094c208429c06cdc7ba79f": {
      "model_module": "@jupyter-widgets/controls",
      "model_module_version": "1.5.0",
      "model_name": "SliderStyleModel",
      "state": {
       "description_width": ""
      }
     },
     "a2ff4b1c7b144b96a3cc2ea112a18f29": {
      "model_module": "@jupyter-widgets/controls",
      "model_module_version": "1.5.0",
      "model_name": "VBoxModel",
      "state": {
       "_dom_classes": [
        "widget-interact"
       ],
       "children": [
        "IPY_MODEL_d0dc406e98da45a097b0c6eab8d17dc1",
        "IPY_MODEL_f470906a1fbb4c2b9be7027b77ce651e",
        "IPY_MODEL_40a0e22e593c490fbafb939b38a87615",
        "IPY_MODEL_792762cfe19a4f0aae64d011efb583bd",
        "IPY_MODEL_daa7d96fe48b4dff8d7ce4a014060248",
        "IPY_MODEL_919420f4784a41a3be95572623b50bd6"
       ],
       "layout": "IPY_MODEL_85a988b312d14fb8be699d57e8e27c10"
      }
     },
     "a36eccd4923f4bb8b05faf3874a4166c": {
      "model_module": "@jupyter-widgets/base",
      "model_module_version": "1.2.0",
      "model_name": "LayoutModel",
      "state": {}
     },
     "a3e03a238a4a43ff90a6768c30387ed2": {
      "model_module": "@jupyter-widgets/controls",
      "model_module_version": "1.5.0",
      "model_name": "SliderStyleModel",
      "state": {
       "description_width": ""
      }
     },
     "a5fa3ec863764be6b14b896195bcaead": {
      "model_module": "@jupyter-widgets/controls",
      "model_module_version": "1.5.0",
      "model_name": "IntSliderModel",
      "state": {
       "description": "an",
       "layout": "IPY_MODEL_abbcf0cd100c4a66ae2a4e0cc78e5690",
       "max": 20,
       "min": 1,
       "style": "IPY_MODEL_e58faf2902c949f8abd41ca94e2b725d",
       "value": 7
      }
     },
     "ab26f86fc2ef445b813211c3027abc83": {
      "model_module": "@jupyter-widgets/base",
      "model_module_version": "1.2.0",
      "model_name": "LayoutModel",
      "state": {}
     },
     "abbcf0cd100c4a66ae2a4e0cc78e5690": {
      "model_module": "@jupyter-widgets/base",
      "model_module_version": "1.2.0",
      "model_name": "LayoutModel",
      "state": {}
     },
     "ae38ad102f7b4202afcdf31b636f1ac6": {
      "model_module": "@jupyter-widgets/base",
      "model_module_version": "1.2.0",
      "model_name": "LayoutModel",
      "state": {}
     },
     "afa39164265642cca115cc6aac255a90": {
      "model_module": "@jupyter-widgets/base",
      "model_module_version": "1.2.0",
      "model_name": "LayoutModel",
      "state": {}
     },
     "b08938e4186947dbb0f8bee739a19997": {
      "model_module": "@jupyter-widgets/base",
      "model_module_version": "1.2.0",
      "model_name": "LayoutModel",
      "state": {}
     },
     "b4f29f431ca943e186acd638d28403e1": {
      "model_module": "@jupyter-widgets/base",
      "model_module_version": "1.2.0",
      "model_name": "LayoutModel",
      "state": {}
     },
     "b574e731d8274857b2ace108f6bde762": {
      "model_module": "@jupyter-widgets/controls",
      "model_module_version": "1.5.0",
      "model_name": "IntSliderModel",
      "state": {
       "description": "bn",
       "layout": "IPY_MODEL_afa39164265642cca115cc6aac255a90",
       "max": 20,
       "min": 1,
       "style": "IPY_MODEL_42adb2838a6644f8a6d51dcc243a0a88",
       "value": 10
      }
     },
     "b619ba5cd68c4930b0b50d68a240c503": {
      "model_module": "@jupyter-widgets/base",
      "model_module_version": "1.2.0",
      "model_name": "LayoutModel",
      "state": {}
     },
     "b8bf732420414d158dee86ce5499d08e": {
      "model_module": "@jupyter-widgets/base",
      "model_module_version": "1.2.0",
      "model_name": "LayoutModel",
      "state": {}
     },
     "bab885a127ad4d48954dca2978ec50b2": {
      "model_module": "@jupyter-widgets/controls",
      "model_module_version": "1.5.0",
      "model_name": "IntSliderModel",
      "state": {
       "description": "an",
       "layout": "IPY_MODEL_77fa36fd3cf347f19d803edd36c871c4",
       "max": 20,
       "min": 1,
       "step": 2,
       "style": "IPY_MODEL_91e43a24050f412995b86cddf39ec70e",
       "value": 15
      }
     },
     "be539025f8254ae5b5d596af29d20d00": {
      "model_module": "@jupyter-widgets/controls",
      "model_module_version": "1.5.0",
      "model_name": "IntSliderModel",
      "state": {
       "description": "dn",
       "layout": "IPY_MODEL_de7b2cc3af9445b794c7c0bdf0c0b6fa",
       "max": 20,
       "min": 1,
       "style": "IPY_MODEL_a3e03a238a4a43ff90a6768c30387ed2",
       "value": 13
      }
     },
     "bf0992874479438c862928a4364e2239": {
      "model_module": "@jupyter-widgets/controls",
      "model_module_version": "1.5.0",
      "model_name": "SliderStyleModel",
      "state": {
       "description_width": ""
      }
     },
     "bfd68ede1b654572affe57efb55414ff": {
      "model_module": "@jupyter-widgets/base",
      "model_module_version": "1.2.0",
      "model_name": "LayoutModel",
      "state": {}
     },
     "c07c1dfc56994dbf80c9c66fffe4488d": {
      "model_module": "@jupyter-widgets/controls",
      "model_module_version": "1.5.0",
      "model_name": "IntSliderModel",
      "state": {
       "description": "cn",
       "layout": "IPY_MODEL_733bd66bcd6b4f4a881e17e8b2042096",
       "max": 20,
       "min": 1,
       "style": "IPY_MODEL_dbc50313769c4d418fdcbe138c00fb23",
       "value": 15
      }
     },
     "c23d689ae9cf4684904bb9f79556d9a8": {
      "model_module": "@jupyter-widgets/controls",
      "model_module_version": "1.5.0",
      "model_name": "SliderStyleModel",
      "state": {
       "description_width": ""
      }
     },
     "c38e4bf8efac4988bdf53f6db8a8d069": {
      "model_module": "@jupyter-widgets/controls",
      "model_module_version": "1.5.0",
      "model_name": "SliderStyleModel",
      "state": {
       "description_width": ""
      }
     },
     "c6342a220cd14dc99369ed3afb27c884": {
      "model_module": "@jupyter-widgets/base",
      "model_module_version": "1.2.0",
      "model_name": "LayoutModel",
      "state": {}
     },
     "cb09880e27da4c29b3b7bd42156ac924": {
      "model_module": "@jupyter-widgets/base",
      "model_module_version": "1.2.0",
      "model_name": "LayoutModel",
      "state": {}
     },
     "d0dc406e98da45a097b0c6eab8d17dc1": {
      "model_module": "@jupyter-widgets/controls",
      "model_module_version": "1.5.0",
      "model_name": "IntSliderModel",
      "state": {
       "description": "an",
       "layout": "IPY_MODEL_2138628862484b16979c45940d5ad8fc",
       "max": 20,
       "min": 1,
       "style": "IPY_MODEL_3ee5350627ae4de186c9fd338a9c77f6",
       "value": 13
      }
     },
     "d62b8c4932184b77b61b59ee0025d643": {
      "model_module": "@jupyter-widgets/controls",
      "model_module_version": "1.5.0",
      "model_name": "FloatSliderModel",
      "state": {
       "description": "thetan",
       "layout": "IPY_MODEL_ae38ad102f7b4202afcdf31b636f1ac6",
       "max": 12.566370614359172,
       "step": 0.1,
       "style": "IPY_MODEL_6fd0d4c39d3f4809b710c910f279c89a",
       "value": 2
      }
     },
     "d62c48c392d84befa8c43bd73b9defc8": {
      "model_module": "@jupyter-widgets/base",
      "model_module_version": "1.2.0",
      "model_name": "LayoutModel",
      "state": {}
     },
     "d78bede0c0e143669f38ff60beb58789": {
      "model_module": "@jupyter-widgets/base",
      "model_module_version": "1.2.0",
      "model_name": "LayoutModel",
      "state": {}
     },
     "daa7d96fe48b4dff8d7ce4a014060248": {
      "model_module": "@jupyter-widgets/controls",
      "model_module_version": "1.5.0",
      "model_name": "FloatSliderModel",
      "state": {
       "description": "thetan",
       "layout": "IPY_MODEL_b4f29f431ca943e186acd638d28403e1",
       "max": 12.566370614359172,
       "step": 0.1,
       "style": "IPY_MODEL_c23d689ae9cf4684904bb9f79556d9a8",
       "value": 6.8
      }
     },
     "dbc50313769c4d418fdcbe138c00fb23": {
      "model_module": "@jupyter-widgets/controls",
      "model_module_version": "1.5.0",
      "model_name": "SliderStyleModel",
      "state": {
       "description_width": ""
      }
     },
     "dc7d000bb40345189ad9356fd3cfa639": {
      "model_module": "@jupyter-widgets/base",
      "model_module_version": "1.2.0",
      "model_name": "LayoutModel",
      "state": {}
     },
     "de7b2cc3af9445b794c7c0bdf0c0b6fa": {
      "model_module": "@jupyter-widgets/base",
      "model_module_version": "1.2.0",
      "model_name": "LayoutModel",
      "state": {}
     },
     "e3032790379e499ba22bc7e6a116a957": {
      "model_module": "@jupyter-widgets/controls",
      "model_module_version": "1.5.0",
      "model_name": "IntSliderModel",
      "state": {
       "description": "dn",
       "layout": "IPY_MODEL_57c54f8e0de14d10846284838bfa73fc",
       "max": 20,
       "min": 1,
       "style": "IPY_MODEL_4c7625a0c03e485f8735698f4b456241",
       "value": 10
      }
     },
     "e34998f1410e4a80bb6fae5a2b981451": {
      "model_module": "@jupyter-widgets/controls",
      "model_module_version": "1.5.0",
      "model_name": "SliderStyleModel",
      "state": {
       "description_width": ""
      }
     },
     "e58faf2902c949f8abd41ca94e2b725d": {
      "model_module": "@jupyter-widgets/controls",
      "model_module_version": "1.5.0",
      "model_name": "SliderStyleModel",
      "state": {
       "description_width": ""
      }
     },
     "eb8ed039d0e5485b97a7f61d1b9d00fe": {
      "model_module": "@jupyter-widgets/output",
      "model_module_version": "1.0.0",
      "model_name": "OutputModel",
      "state": {
       "layout": "IPY_MODEL_97b4e6a424b646e588f7163430650eea",
       "outputs": [
        {
         "name": "stdout",
         "output_type": "stream",
         "text": "Grashof\n"
        },
        {
         "data": {
          "image/png": "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\n",
          "text/plain": "<Figure size 750x750 with 1 Axes>"
         },
         "metadata": {
          "needs_background": "light"
         },
         "output_type": "display_data"
        }
       ]
      }
     },
     "ef3c5d4186034665b8916b322a4e4a8c": {
      "model_module": "@jupyter-widgets/base",
      "model_module_version": "1.2.0",
      "model_name": "LayoutModel",
      "state": {}
     },
     "f12793bc35c9412ba6966ea883e46a4c": {
      "model_module": "@jupyter-widgets/controls",
      "model_module_version": "1.5.0",
      "model_name": "SliderStyleModel",
      "state": {
       "description_width": ""
      }
     },
     "f470906a1fbb4c2b9be7027b77ce651e": {
      "model_module": "@jupyter-widgets/controls",
      "model_module_version": "1.5.0",
      "model_name": "IntSliderModel",
      "state": {
       "description": "bn",
       "layout": "IPY_MODEL_6b05cd0a94da4f28b63cdb4dd1c6cb42",
       "max": 20,
       "min": 1,
       "style": "IPY_MODEL_f9152e7724db41ec90e1db46749c7e4b",
       "value": 11
      }
     },
     "f584970036d64074970e92612ae90f6a": {
      "model_module": "@jupyter-widgets/controls",
      "model_module_version": "1.5.0",
      "model_name": "SliderStyleModel",
      "state": {
       "description_width": ""
      }
     },
     "f7450cc405614f6eab2fbfccdd28cdff": {
      "model_module": "@jupyter-widgets/controls",
      "model_module_version": "1.5.0",
      "model_name": "VBoxModel",
      "state": {
       "_dom_classes": [
        "widget-interact"
       ],
       "children": [
        "IPY_MODEL_21d9c60f5f1b482ca0e0c4f196874cae",
        "IPY_MODEL_722e088fadeb4142847e63a4ccfc52ff",
        "IPY_MODEL_c07c1dfc56994dbf80c9c66fffe4488d",
        "IPY_MODEL_be539025f8254ae5b5d596af29d20d00",
        "IPY_MODEL_47247fce72bb4d69a69126d42b68d344",
        "IPY_MODEL_2a77e0af97d543cd91fb5c7253394cd9"
       ],
       "layout": "IPY_MODEL_bfd68ede1b654572affe57efb55414ff"
      }
     },
     "f9152e7724db41ec90e1db46749c7e4b": {
      "model_module": "@jupyter-widgets/controls",
      "model_module_version": "1.5.0",
      "model_name": "SliderStyleModel",
      "state": {
       "description_width": ""
      }
     },
     "fb5b704e252341dc8411b6ceb665b9b3": {
      "model_module": "@jupyter-widgets/controls",
      "model_module_version": "1.5.0",
      "model_name": "IntSliderModel",
      "state": {
       "description": "an",
       "layout": "IPY_MODEL_cb09880e27da4c29b3b7bd42156ac924",
       "max": 20,
       "min": 1,
       "style": "IPY_MODEL_c38e4bf8efac4988bdf53f6db8a8d069",
       "value": 8
      }
     },
     "fb8425718cd54380a7aa3f99fb96bc09": {
      "model_module": "@jupyter-widgets/controls",
      "model_module_version": "1.5.0",
      "model_name": "IntSliderModel",
      "state": {
       "description": "dn",
       "layout": "IPY_MODEL_ab26f86fc2ef445b813211c3027abc83",
       "max": 20,
       "min": 1,
       "style": "IPY_MODEL_8bdbb76818bb4b91952397bc76975617",
       "value": 10
      }
     },
     "fd22a6cb01ea4115a24a41352bdd4376": {
      "model_module": "@jupyter-widgets/controls",
      "model_module_version": "1.5.0",
      "model_name": "SliderStyleModel",
      "state": {
       "description_width": ""
      }
     }
    },
    "version_major": 2,
    "version_minor": 0
   }
  }
 },
 "nbformat": 4,
 "nbformat_minor": 4
}
